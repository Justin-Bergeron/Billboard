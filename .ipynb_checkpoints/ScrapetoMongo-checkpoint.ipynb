{
 "cells": [
  {
   "cell_type": "code",
   "execution_count": 2,
   "metadata": {},
   "outputs": [],
   "source": [
    "import time\n",
    "from splinter import Browser\n",
    "from bs4 import BeautifulSoup\n",
    "from selenium import webdriver\n",
    "from datetime import datetime\n",
    "from contextlib import suppress\n",
    "\n",
    "year = [1960, 1961]"
   ]
  },
  {
   "cell_type": "code",
   "execution_count": 3,
   "metadata": {},
   "outputs": [],
   "source": [
    "# Initialize browser\n",
    "def init_browser():\n",
    "\n",
    "    executable_path = {\"executable_path\": \"/usr/local/bin/chromedriver\"}\n",
    "    return Browser(\"chrome\", **executable_path, headless=False)\n",
    "    \n",
    "\n",
    "\n",
    "\n",
    "urlList = []\n",
    "\n",
    "    # Initialize browser\n",
    "browser = init_browser()\n",
    "\n",
    "# Visit Costa Rica surf site\n",
    "url = \"https://www.billboard.com/archive/charts/2000/hot-100\"\n",
    "browser.visit(url)\n",
    "\n",
    "# Scrape page into soup\n",
    "html = browser.html\n",
    "soup = BeautifulSoup(html, 'html.parser')"
   ]
  },
  {
   "cell_type": "code",
   "execution_count": 4,
   "metadata": {},
   "outputs": [
    {
     "name": "stdout",
     "output_type": "stream",
     "text": [
      "[<a href=\"/charts/hot-100/2000-01-08\">January 8</a>, <a href=\"/charts/hot-100/2000-01-15\">January 15</a>, <a href=\"/charts/hot-100/2000-01-22\">January 22</a>, <a href=\"/charts/hot-100/2000-01-29\">January 29</a>, <a href=\"/charts/hot-100/2000-02-05\">February 5</a>, <a href=\"/charts/hot-100/2000-02-12\">February 12</a>, <a href=\"/charts/hot-100/2000-02-19\">February 19</a>, <a href=\"/charts/hot-100/2000-02-26\">February 26</a>, <a href=\"/charts/hot-100/2000-03-04\">March 4</a>, <a href=\"/charts/hot-100/2000-03-11\">March 11</a>, <a href=\"/charts/hot-100/2000-03-18\">March 18</a>, <a href=\"/charts/hot-100/2000-03-25\">March 25</a>, <a href=\"/charts/hot-100/2000-04-01\">April 1</a>, <a href=\"/charts/hot-100/2000-04-08\">April 8</a>, <a href=\"/charts/hot-100/2000-04-15\">April 15</a>, <a href=\"/charts/hot-100/2000-04-22\">April 22</a>, <a href=\"/charts/hot-100/2000-04-29\">April 29</a>, <a href=\"/charts/hot-100/2000-05-06\">May 6</a>, <a href=\"/charts/hot-100/2000-05-13\">May 13</a>, <a href=\"/charts/hot-100/2000-05-20\">May 20</a>, <a href=\"/charts/hot-100/2000-05-27\">May 27</a>, <a href=\"/charts/hot-100/2000-06-03\">June 3</a>, <a href=\"/charts/hot-100/2000-06-10\">June 10</a>, <a href=\"/charts/hot-100/2000-06-17\">June 17</a>, <a href=\"/charts/hot-100/2000-06-24\">June 24</a>, <a href=\"/charts/hot-100/2000-07-01\">July 1</a>, <a href=\"/charts/hot-100/2000-07-08\">July 8</a>, <a href=\"/charts/hot-100/2000-07-15\">July 15</a>, <a href=\"/charts/hot-100/2000-07-22\">July 22</a>, <a href=\"/charts/hot-100/2000-07-29\">July 29</a>, <a href=\"/charts/hot-100/2000-08-05\">August 5</a>, <a href=\"/charts/hot-100/2000-08-12\">August 12</a>, <a href=\"/charts/hot-100/2000-08-19\">August 19</a>, <a href=\"/charts/hot-100/2000-08-26\">August 26</a>, <a href=\"/charts/hot-100/2000-09-02\">September 2</a>, <a href=\"/charts/hot-100/2000-09-09\">September 9</a>, <a href=\"/charts/hot-100/2000-09-16\">September 16</a>, <a href=\"/charts/hot-100/2000-09-23\">September 23</a>, <a href=\"/charts/hot-100/2000-09-30\">September 30</a>, <a href=\"/charts/hot-100/2000-10-07\">October 7</a>, <a href=\"/charts/hot-100/2000-10-14\">October 14</a>, <a href=\"/charts/hot-100/2000-10-21\">October 21</a>, <a href=\"/charts/hot-100/2000-10-28\">October 28</a>, <a href=\"/charts/hot-100/2000-11-04\">November 4</a>, <a href=\"/charts/hot-100/2000-11-11\">November 11</a>, <a href=\"/charts/hot-100/2000-11-18\">November 18</a>, <a href=\"/charts/hot-100/2000-11-25\">November 25</a>, <a href=\"/charts/hot-100/2000-12-02\">December 2</a>, <a href=\"/charts/hot-100/2000-12-09\">December 9</a>, <a href=\"/charts/hot-100/2000-12-16\">December 16</a>, <a href=\"/charts/hot-100/2000-12-23\">December 23</a>, <a href=\"/charts/hot-100/2000-12-30\">December 30</a>]\n"
     ]
    }
   ],
   "source": [
    "table = soup.find('table', class_ = 'archive-table')\n",
    "url = table.find_all('a', href = True)         #, class_ = 'sl-spot-list__ref'\n",
    "urlList.append(url)\n",
    "\n",
    "print(url)"
   ]
  },
  {
   "cell_type": "code",
   "execution_count": 11,
   "metadata": {},
   "outputs": [
    {
     "name": "stdout",
     "output_type": "stream",
     "text": [
      "{'Week': 2, 'URL': '<a href=\"/charts/hot-100/2000-01-22\">January 22</a>'}\n"
     ]
    }
   ],
   "source": [
    "l = 0\n",
    "week = []\n",
    "while l <= 52:\n",
    "    week.append(l)\n",
    "    l +=1\n",
    "    \n",
    "\n",
    "\n",
    "\n",
    "\n",
    "testList = []\n",
    "j = 0\n",
    "while j < 52:\n",
    "    testDict = {\n",
    "        \"Week\": week[j],\n",
    "        \"URL\": str(url[j]),\n",
    "            }\n",
    "    testList.append(testDict)\n",
    "    j += 1    \n",
    "\n",
    "print(testList[2])  \n",
    "    \n"
   ]
  },
  {
   "cell_type": "code",
   "execution_count": 14,
   "metadata": {},
   "outputs": [
    {
     "name": "stdout",
     "output_type": "stream",
     "text": [
      "done\n"
     ]
    }
   ],
   "source": [
    "#Module used to connect Python with MongoDb\n",
    "import pymongo\n",
    "\n",
    "# The default port used by MongoDB is 27017\n",
    "# https://docs.mongodb.com/manual/reference/default-mongodb-port/\n",
    "conn = 'mongodb://localhost:27017'\n",
    "client = pymongo.MongoClient(conn)\n",
    "\n",
    "\n",
    "\n",
    "# Define the 'classDB' database in Mongo\n",
    "db = client.billboard\n",
    "\n",
    "\n",
    "\n",
    "for i in testList:\n",
    "    db.twothousand.fun.insert_one(i)\n",
    "    \n",
    "print('done')\n",
    "    \n",
    "    \n",
    "\n",
    "    "
   ]
  },
  {
   "cell_type": "code",
   "execution_count": null,
   "metadata": {},
   "outputs": [],
   "source": []
  }
 ],
 "metadata": {
  "kernelspec": {
   "display_name": "Python 3",
   "language": "python",
   "name": "python3"
  },
  "language_info": {
   "codemirror_mode": {
    "name": "ipython",
    "version": 3
   },
   "file_extension": ".py",
   "mimetype": "text/x-python",
   "name": "python",
   "nbconvert_exporter": "python",
   "pygments_lexer": "ipython3",
   "version": "3.6.1"
  }
 },
 "nbformat": 4,
 "nbformat_minor": 2
}
