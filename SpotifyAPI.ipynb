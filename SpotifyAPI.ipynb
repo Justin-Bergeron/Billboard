{
 "cells": [
  {
   "cell_type": "code",
   "execution_count": 9,
   "metadata": {},
   "outputs": [],
   "source": [
    "import requests\n",
    "import spotipy\n",
    "import sys\n",
    "\n",
    "from spotipy.oauth2 import SpotifyClientCredentials\n",
    "\n",
    "client_credentials_manager = SpotifyClientCredentials(client_id='29b899d51f7046329a94533635a855ee',\n",
    "                                                      client_secret='c1ec92faf33244cdb648b8aacc4b5bea')\n",
    "spotify = spotipy.Spotify(client_credentials_manager=client_credentials_manager)\n"
   ]
  },
  {
   "cell_type": "code",
   "execution_count": 10,
   "metadata": {},
   "outputs": [
    {
     "ename": "SpotifyException",
     "evalue": "http status: 401, code:-1 - https://api.spotify.com/v1/search?q=artist%3Amuse&limit=10&offset=0&type=artist:\n No token provided",
     "output_type": "error",
     "traceback": [
      "\u001b[0;31m---------------------------------------------------------------------------\u001b[0m",
      "\u001b[0;31mHTTPError\u001b[0m                                 Traceback (most recent call last)",
      "\u001b[0;32m/anaconda/lib/python3.6/site-packages/spotipy/client.py\u001b[0m in \u001b[0;36m_internal_call\u001b[0;34m(self, method, url, payload, params)\u001b[0m\n\u001b[1;32m    118\u001b[0m         \u001b[0;32mtry\u001b[0m\u001b[0;34m:\u001b[0m\u001b[0;34m\u001b[0m\u001b[0m\n\u001b[0;32m--> 119\u001b[0;31m             \u001b[0mr\u001b[0m\u001b[0;34m.\u001b[0m\u001b[0mraise_for_status\u001b[0m\u001b[0;34m(\u001b[0m\u001b[0;34m)\u001b[0m\u001b[0;34m\u001b[0m\u001b[0m\n\u001b[0m\u001b[1;32m    120\u001b[0m         \u001b[0;32mexcept\u001b[0m\u001b[0;34m:\u001b[0m\u001b[0;34m\u001b[0m\u001b[0m\n",
      "\u001b[0;32m/anaconda/lib/python3.6/site-packages/requests/models.py\u001b[0m in \u001b[0;36mraise_for_status\u001b[0;34m(self)\u001b[0m\n\u001b[1;32m    934\u001b[0m         \u001b[0;32mif\u001b[0m \u001b[0mhttp_error_msg\u001b[0m\u001b[0;34m:\u001b[0m\u001b[0;34m\u001b[0m\u001b[0m\n\u001b[0;32m--> 935\u001b[0;31m             \u001b[0;32mraise\u001b[0m \u001b[0mHTTPError\u001b[0m\u001b[0;34m(\u001b[0m\u001b[0mhttp_error_msg\u001b[0m\u001b[0;34m,\u001b[0m \u001b[0mresponse\u001b[0m\u001b[0;34m=\u001b[0m\u001b[0mself\u001b[0m\u001b[0;34m)\u001b[0m\u001b[0;34m\u001b[0m\u001b[0m\n\u001b[0m\u001b[1;32m    936\u001b[0m \u001b[0;34m\u001b[0m\u001b[0m\n",
      "\u001b[0;31mHTTPError\u001b[0m: 401 Client Error: Unauthorized for url: https://api.spotify.com/v1/search?q=artist%3Amuse&limit=10&offset=0&type=artist",
      "\nDuring handling of the above exception, another exception occurred:\n",
      "\u001b[0;31mSpotifyException\u001b[0m                          Traceback (most recent call last)",
      "\u001b[0;32m<ipython-input-10-c3475521c69b>\u001b[0m in \u001b[0;36m<module>\u001b[0;34m()\u001b[0m\n\u001b[1;32m      1\u001b[0m \u001b[0mspotify\u001b[0m \u001b[0;34m=\u001b[0m \u001b[0mspotipy\u001b[0m\u001b[0;34m.\u001b[0m\u001b[0mSpotify\u001b[0m\u001b[0;34m(\u001b[0m\u001b[0;34m)\u001b[0m\u001b[0;34m\u001b[0m\u001b[0m\n\u001b[0;32m----> 2\u001b[0;31m \u001b[0mresults\u001b[0m \u001b[0;34m=\u001b[0m \u001b[0mspotify\u001b[0m\u001b[0;34m.\u001b[0m\u001b[0msearch\u001b[0m\u001b[0;34m(\u001b[0m\u001b[0mq\u001b[0m\u001b[0;34m=\u001b[0m\u001b[0;34m'artist:'\u001b[0m \u001b[0;34m+\u001b[0m \u001b[0;34m'muse'\u001b[0m\u001b[0;34m,\u001b[0m \u001b[0mtype\u001b[0m\u001b[0;34m=\u001b[0m\u001b[0;34m'artist'\u001b[0m\u001b[0;34m)\u001b[0m\u001b[0;34m\u001b[0m\u001b[0m\n\u001b[0m\u001b[1;32m      3\u001b[0m \u001b[0mprint\u001b[0m\u001b[0;34m(\u001b[0m\u001b[0mresults\u001b[0m\u001b[0;34m)\u001b[0m\u001b[0;34m\u001b[0m\u001b[0m\n",
      "\u001b[0;32m/anaconda/lib/python3.6/site-packages/spotipy/client.py\u001b[0m in \u001b[0;36msearch\u001b[0;34m(self, q, limit, offset, type, market)\u001b[0m\n\u001b[1;32m    337\u001b[0m                 \u001b[0;34m-\u001b[0m \u001b[0mmarket\u001b[0m \u001b[0;34m-\u001b[0m \u001b[0mAn\u001b[0m \u001b[0mISO\u001b[0m \u001b[0;36m3166\u001b[0m\u001b[0;34m-\u001b[0m\u001b[0;36m1\u001b[0m \u001b[0malpha\u001b[0m\u001b[0;34m-\u001b[0m\u001b[0;36m2\u001b[0m \u001b[0mcountry\u001b[0m \u001b[0mcode\u001b[0m \u001b[0;32mor\u001b[0m \u001b[0mthe\u001b[0m \u001b[0mstring\u001b[0m \u001b[0mfrom_token\u001b[0m\u001b[0;34m.\u001b[0m\u001b[0;34m\u001b[0m\u001b[0m\n\u001b[1;32m    338\u001b[0m         '''\n\u001b[0;32m--> 339\u001b[0;31m         \u001b[0;32mreturn\u001b[0m \u001b[0mself\u001b[0m\u001b[0;34m.\u001b[0m\u001b[0m_get\u001b[0m\u001b[0;34m(\u001b[0m\u001b[0;34m'search'\u001b[0m\u001b[0;34m,\u001b[0m \u001b[0mq\u001b[0m\u001b[0;34m=\u001b[0m\u001b[0mq\u001b[0m\u001b[0;34m,\u001b[0m \u001b[0mlimit\u001b[0m\u001b[0;34m=\u001b[0m\u001b[0mlimit\u001b[0m\u001b[0;34m,\u001b[0m \u001b[0moffset\u001b[0m\u001b[0;34m=\u001b[0m\u001b[0moffset\u001b[0m\u001b[0;34m,\u001b[0m \u001b[0mtype\u001b[0m\u001b[0;34m=\u001b[0m\u001b[0mtype\u001b[0m\u001b[0;34m,\u001b[0m \u001b[0mmarket\u001b[0m\u001b[0;34m=\u001b[0m\u001b[0mmarket\u001b[0m\u001b[0;34m)\u001b[0m\u001b[0;34m\u001b[0m\u001b[0m\n\u001b[0m\u001b[1;32m    340\u001b[0m \u001b[0;34m\u001b[0m\u001b[0m\n\u001b[1;32m    341\u001b[0m     \u001b[0;32mdef\u001b[0m \u001b[0muser\u001b[0m\u001b[0;34m(\u001b[0m\u001b[0mself\u001b[0m\u001b[0;34m,\u001b[0m \u001b[0muser\u001b[0m\u001b[0;34m)\u001b[0m\u001b[0;34m:\u001b[0m\u001b[0;34m\u001b[0m\u001b[0m\n",
      "\u001b[0;32m/anaconda/lib/python3.6/site-packages/spotipy/client.py\u001b[0m in \u001b[0;36m_get\u001b[0;34m(self, url, args, payload, **kwargs)\u001b[0m\n\u001b[1;32m    144\u001b[0m         \u001b[0;32mwhile\u001b[0m \u001b[0mretries\u001b[0m \u001b[0;34m>\u001b[0m \u001b[0;36m0\u001b[0m\u001b[0;34m:\u001b[0m\u001b[0;34m\u001b[0m\u001b[0m\n\u001b[1;32m    145\u001b[0m             \u001b[0;32mtry\u001b[0m\u001b[0;34m:\u001b[0m\u001b[0;34m\u001b[0m\u001b[0m\n\u001b[0;32m--> 146\u001b[0;31m                 \u001b[0;32mreturn\u001b[0m \u001b[0mself\u001b[0m\u001b[0;34m.\u001b[0m\u001b[0m_internal_call\u001b[0m\u001b[0;34m(\u001b[0m\u001b[0;34m'GET'\u001b[0m\u001b[0;34m,\u001b[0m \u001b[0murl\u001b[0m\u001b[0;34m,\u001b[0m \u001b[0mpayload\u001b[0m\u001b[0;34m,\u001b[0m \u001b[0mkwargs\u001b[0m\u001b[0;34m)\u001b[0m\u001b[0;34m\u001b[0m\u001b[0m\n\u001b[0m\u001b[1;32m    147\u001b[0m             \u001b[0;32mexcept\u001b[0m \u001b[0mSpotifyException\u001b[0m \u001b[0;32mas\u001b[0m \u001b[0me\u001b[0m\u001b[0;34m:\u001b[0m\u001b[0;34m\u001b[0m\u001b[0m\n\u001b[1;32m    148\u001b[0m                 \u001b[0mretries\u001b[0m \u001b[0;34m-=\u001b[0m \u001b[0;36m1\u001b[0m\u001b[0;34m\u001b[0m\u001b[0m\n",
      "\u001b[0;32m/anaconda/lib/python3.6/site-packages/spotipy/client.py\u001b[0m in \u001b[0;36m_internal_call\u001b[0;34m(self, method, url, payload, params)\u001b[0m\n\u001b[1;32m    122\u001b[0m                 raise SpotifyException(r.status_code,\n\u001b[1;32m    123\u001b[0m                     \u001b[0;34m-\u001b[0m\u001b[0;36m1\u001b[0m\u001b[0;34m,\u001b[0m \u001b[0;34m'%s:\\n %s'\u001b[0m \u001b[0;34m%\u001b[0m \u001b[0;34m(\u001b[0m\u001b[0mr\u001b[0m\u001b[0;34m.\u001b[0m\u001b[0murl\u001b[0m\u001b[0;34m,\u001b[0m \u001b[0mr\u001b[0m\u001b[0;34m.\u001b[0m\u001b[0mjson\u001b[0m\u001b[0;34m(\u001b[0m\u001b[0;34m)\u001b[0m\u001b[0;34m[\u001b[0m\u001b[0;34m'error'\u001b[0m\u001b[0;34m]\u001b[0m\u001b[0;34m[\u001b[0m\u001b[0;34m'message'\u001b[0m\u001b[0;34m]\u001b[0m\u001b[0;34m)\u001b[0m\u001b[0;34m,\u001b[0m\u001b[0;34m\u001b[0m\u001b[0m\n\u001b[0;32m--> 124\u001b[0;31m                     headers=r.headers)\n\u001b[0m\u001b[1;32m    125\u001b[0m             \u001b[0;32melse\u001b[0m\u001b[0;34m:\u001b[0m\u001b[0;34m\u001b[0m\u001b[0m\n\u001b[1;32m    126\u001b[0m                 raise SpotifyException(r.status_code,\n",
      "\u001b[0;31mSpotifyException\u001b[0m: http status: 401, code:-1 - https://api.spotify.com/v1/search?q=artist%3Amuse&limit=10&offset=0&type=artist:\n No token provided"
     ]
    }
   ],
   "source": [
    "spotify = spotipy.Spotify()\n",
    "results = spotify.search(q='artist:' + 'muse', type='artist')\n",
    "print(results)"
   ]
  },
  {
   "cell_type": "code",
   "execution_count": 25,
   "metadata": {},
   "outputs": [
    {
     "name": "stdout",
     "output_type": "stream",
     "text": [
      "{   'album': {   'album_type': 'single',\n",
      "                 'artists': [   {   'external_urls': {   'spotify': 'https://open.spotify.com/artist/6sFIWsNpZYqfjUpaCgueju'},\n",
      "                                    'href': 'https://api.spotify.com/v1/artists/6sFIWsNpZYqfjUpaCgueju',\n",
      "                                    'id': '6sFIWsNpZYqfjUpaCgueju',\n",
      "                                    'name': 'Carly Rae Jepsen',\n",
      "                                    'type': 'artist',\n",
      "                                    'uri': 'spotify:artist:6sFIWsNpZYqfjUpaCgueju'}],\n",
      "                 'available_markets': [],\n",
      "                 'external_urls': {   'spotify': 'https://open.spotify.com/album/0tGPJ0bkWOUmH7MEOR77qc'},\n",
      "                 'href': 'https://api.spotify.com/v1/albums/0tGPJ0bkWOUmH7MEOR77qc',\n",
      "                 'id': '0tGPJ0bkWOUmH7MEOR77qc',\n",
      "                 'images': [   {   'height': 640,\n",
      "                                   'url': 'https://i.scdn.co/image/966ade7a8c43b72faa53822b74a899c675aaafee',\n",
      "                                   'width': 640},\n",
      "                               {   'height': 300,\n",
      "                                   'url': 'https://i.scdn.co/image/107819f5dc557d5d0a4b216781c6ec1b2f3c5ab2',\n",
      "                                   'width': 300},\n",
      "                               {   'height': 64,\n",
      "                                   'url': 'https://i.scdn.co/image/5a73a056d0af707b4119a883d87285feda543fbb',\n",
      "                                   'width': 64}],\n",
      "                 'name': 'Cut To The Feeling',\n",
      "                 'release_date': '2017-05-26',\n",
      "                 'release_date_precision': 'day',\n",
      "                 'type': 'album',\n",
      "                 'uri': 'spotify:album:0tGPJ0bkWOUmH7MEOR77qc'},\n",
      "    'artists': [   {   'external_urls': {   'spotify': 'https://open.spotify.com/artist/6sFIWsNpZYqfjUpaCgueju'},\n",
      "                       'href': 'https://api.spotify.com/v1/artists/6sFIWsNpZYqfjUpaCgueju',\n",
      "                       'id': '6sFIWsNpZYqfjUpaCgueju',\n",
      "                       'name': 'Carly Rae Jepsen',\n",
      "                       'type': 'artist',\n",
      "                       'uri': 'spotify:artist:6sFIWsNpZYqfjUpaCgueju'}],\n",
      "    'available_markets': [],\n",
      "    'disc_number': 1,\n",
      "    'duration_ms': 207959,\n",
      "    'explicit': False,\n",
      "    'external_ids': {'isrc': 'USUM71703861'},\n",
      "    'external_urls': {   'spotify': 'https://open.spotify.com/track/11dFghVXANMlKmJXsNCbNl'},\n",
      "    'href': 'https://api.spotify.com/v1/tracks/11dFghVXANMlKmJXsNCbNl',\n",
      "    'id': '11dFghVXANMlKmJXsNCbNl',\n",
      "    'is_local': False,\n",
      "    'name': 'Cut To The Feeling',\n",
      "    'popularity': 56,\n",
      "    'preview_url': None,\n",
      "    'track_number': 1,\n",
      "    'type': 'track',\n",
      "    'uri': 'spotify:track:11dFghVXANMlKmJXsNCbNl'}\n"
     ]
    }
   ],
   "source": [
    "import pprint\n",
    "import spotipy\n",
    "from spotipy.oauth2 import SpotifyClientCredentials\n",
    "\n",
    "pp = pprint.PrettyPrinter(indent=4)\n",
    "\n",
    "\n",
    "client_credentials_manager = SpotifyClientCredentials(client_id='f9e7bf70628e48acb0ae0878c7e28189', client_secret='6dbea35c563749039101f428b08a8437')\n",
    "sp = spotipy.Spotify(client_credentials_manager=client_credentials_manager)\n",
    "\n",
    "playlists = sp.user_playlists('Username')\n",
    "songs = sp.track('11dFghVXANMlKmJXsNCbNl')\n",
    "pp.pprint(songs)\n",
    "\n",
    "\n",
    "# print(playlists)\n",
    "\n",
    "# while playlists:\n",
    "#     for i, playlist in enumerate(playlists['items']):\n",
    "#         print(\"%4d %s %s\" % (i + 1 + playlists['offset'], playlist['uri'],  playlist['name']))\n",
    "#     if playlists['next']:\n",
    "#         playlists = sp.next(playlists)\n",
    "#     else:\n",
    "#         playlists = None"
   ]
  },
  {
   "cell_type": "code",
   "execution_count": 32,
   "metadata": {},
   "outputs": [
    {
     "ename": "AttributeError",
     "evalue": "'Spotify' object has no attribute 'audio'",
     "output_type": "error",
     "traceback": [
      "\u001b[0;31m---------------------------------------------------------------------------\u001b[0m",
      "\u001b[0;31mAttributeError\u001b[0m                            Traceback (most recent call last)",
      "\u001b[0;32m<ipython-input-32-d8c45aa44aad>\u001b[0m in \u001b[0;36m<module>\u001b[0;34m()\u001b[0m\n\u001b[1;32m     10\u001b[0m \u001b[0;34m\u001b[0m\u001b[0m\n\u001b[1;32m     11\u001b[0m \u001b[0;31m#playlists = sp.user_playlists('Username')\u001b[0m\u001b[0;34m\u001b[0m\u001b[0;34m\u001b[0m\u001b[0m\n\u001b[0;32m---> 12\u001b[0;31m \u001b[0msongs\u001b[0m \u001b[0;34m=\u001b[0m \u001b[0msp\u001b[0m\u001b[0;34m.\u001b[0m\u001b[0maudio\u001b[0m\u001b[0;34m-\u001b[0m\u001b[0manalysis\u001b[0m\u001b[0;34m(\u001b[0m\u001b[0;34m'11dFghVXANMlKmJXsNCbNl'\u001b[0m\u001b[0;34m)\u001b[0m\u001b[0;34m\u001b[0m\u001b[0m\n\u001b[0m\u001b[1;32m     13\u001b[0m \u001b[0;34m\u001b[0m\u001b[0m\n\u001b[1;32m     14\u001b[0m \u001b[0;34m\u001b[0m\u001b[0m\n",
      "\u001b[0;31mAttributeError\u001b[0m: 'Spotify' object has no attribute 'audio'"
     ]
    }
   ],
   "source": [
    "import pprint\n",
    "import spotipy\n",
    "from spotipy.oauth2 import SpotifyClientCredentials\n",
    "\n",
    "pp = pprint.PrettyPrinter(indent=4)\n",
    "\n",
    "\n",
    "client_credentials_manager = SpotifyClientCredentials(client_id='f9e7bf70628e48acb0ae0878c7e28189', client_secret='6dbea35c563749039101f428b08a8437')\n",
    "sp = spotipy.Spotify(client_credentials_manager=client_credentials_manager)\n",
    "\n",
    "#playlists = sp.user_playlists('Username')\n",
    "songs = sp.audio-analysis('11dFghVXANMlKmJXsNCbNl')\n",
    "\n",
    "\n",
    "pp.pprint(songs)"
   ]
  },
  {
   "cell_type": "code",
   "execution_count": 96,
   "metadata": {},
   "outputs": [
    {
     "name": "stdout",
     "output_type": "stream",
     "text": [
      "spotify:track:0BCPKOYdS2jbQ8iyB56Zns\n",
      "{'tracks': {'href': 'https://api.spotify.com/v1/search?query=Clocks+Coldplay&type=track&offset=0&limit=10', 'items': [{'album': {'album_type': 'album', 'artists': [{'external_urls': {'spotify': 'https://open.spotify.com/artist/4gzpq5DPGxSnKTe4SA8HAU'}, 'href': 'https://api.spotify.com/v1/artists/4gzpq5DPGxSnKTe4SA8HAU', 'id': '4gzpq5DPGxSnKTe4SA8HAU', 'name': 'Coldplay', 'type': 'artist', 'uri': 'spotify:artist:4gzpq5DPGxSnKTe4SA8HAU'}], 'available_markets': ['AD', 'AR', 'AT', 'AU', 'BE', 'BG', 'BO', 'BR', 'CA', 'CH', 'CL', 'CO', 'CR', 'CY', 'CZ', 'DE', 'DK', 'DO', 'EC', 'EE', 'ES', 'FI', 'FR', 'GB', 'GR', 'GT', 'HK', 'HN', 'HU', 'ID', 'IE', 'IL', 'IS', 'IT', 'JP', 'LI', 'LT', 'LU', 'LV', 'MC', 'MT', 'MX', 'MY', 'NI', 'NL', 'NO', 'NZ', 'PA', 'PE', 'PH', 'PL', 'PT', 'PY', 'RO', 'SE', 'SG', 'SK', 'SV', 'TH', 'TR', 'TW', 'US', 'UY', 'VN', 'ZA'], 'external_urls': {'spotify': 'https://open.spotify.com/album/0RHX9XECH8IVI3LNgWDpmQ'}, 'href': 'https://api.spotify.com/v1/albums/0RHX9XECH8IVI3LNgWDpmQ', 'id': '0RHX9XECH8IVI3LNgWDpmQ', 'images': [{'height': 640, 'url': 'https://i.scdn.co/image/70d8660d8b802835a280ce75799d30db262f7094', 'width': 640}, {'height': 300, 'url': 'https://i.scdn.co/image/671fb0a2ecb0c77cb693eb150bde7b6fa94b3f32', 'width': 300}, {'height': 64, 'url': 'https://i.scdn.co/image/fb5bf70413af17edae091532e9f0dc442af852cf', 'width': 64}], 'name': 'A Rush Of Blood To The Head', 'release_date': '2002-08-08', 'release_date_precision': 'day', 'type': 'album', 'uri': 'spotify:album:0RHX9XECH8IVI3LNgWDpmQ'}, 'artists': [{'external_urls': {'spotify': 'https://open.spotify.com/artist/4gzpq5DPGxSnKTe4SA8HAU'}, 'href': 'https://api.spotify.com/v1/artists/4gzpq5DPGxSnKTe4SA8HAU', 'id': '4gzpq5DPGxSnKTe4SA8HAU', 'name': 'Coldplay', 'type': 'artist', 'uri': 'spotify:artist:4gzpq5DPGxSnKTe4SA8HAU'}], 'available_markets': ['AD', 'AR', 'AT', 'AU', 'BE', 'BG', 'BO', 'BR', 'CA', 'CH', 'CL', 'CO', 'CR', 'CY', 'CZ', 'DE', 'DK', 'DO', 'EC', 'EE', 'ES', 'FI', 'FR', 'GB', 'GR', 'GT', 'HK', 'HN', 'HU', 'ID', 'IE', 'IL', 'IS', 'IT', 'JP', 'LI', 'LT', 'LU', 'LV', 'MC', 'MT', 'MX', 'MY', 'NI', 'NL', 'NO', 'NZ', 'PA', 'PE', 'PH', 'PL', 'PT', 'PY', 'RO', 'SE', 'SG', 'SK', 'SV', 'TH', 'TR', 'TW', 'US', 'UY', 'VN', 'ZA'], 'disc_number': 1, 'duration_ms': 307879, 'explicit': False, 'external_ids': {'isrc': 'GBAYE0200771'}, 'external_urls': {'spotify': 'https://open.spotify.com/track/0BCPKOYdS2jbQ8iyB56Zns'}, 'href': 'https://api.spotify.com/v1/tracks/0BCPKOYdS2jbQ8iyB56Zns', 'id': '0BCPKOYdS2jbQ8iyB56Zns', 'is_local': False, 'name': 'Clocks', 'popularity': 75, 'preview_url': 'https://p.scdn.co/mp3-preview/24c7fe858b234e3cb21872cd03ab44b669163fbb?cid=f9e7bf70628e48acb0ae0878c7e28189', 'track_number': 5, 'type': 'track', 'uri': 'spotify:track:0BCPKOYdS2jbQ8iyB56Zns'}, {'album': {'album_type': 'single', 'artists': [{'external_urls': {'spotify': 'https://open.spotify.com/artist/4gzpq5DPGxSnKTe4SA8HAU'}, 'href': 'https://api.spotify.com/v1/artists/4gzpq5DPGxSnKTe4SA8HAU', 'id': '4gzpq5DPGxSnKTe4SA8HAU', 'name': 'Coldplay', 'type': 'artist', 'uri': 'spotify:artist:4gzpq5DPGxSnKTe4SA8HAU'}], 'available_markets': ['AD', 'AR', 'AT', 'AU', 'BE', 'BG', 'BO', 'BR', 'CA', 'CH', 'CL', 'CO', 'CR', 'CY', 'CZ', 'DE', 'DK', 'DO', 'EC', 'EE', 'ES', 'FI', 'FR', 'GB', 'GR', 'GT', 'HK', 'HN', 'HU', 'ID', 'IE', 'IL', 'IS', 'IT', 'JP', 'LI', 'LT', 'LU', 'LV', 'MC', 'MT', 'MX', 'MY', 'NI', 'NL', 'NO', 'NZ', 'PA', 'PE', 'PH', 'PL', 'PT', 'PY', 'RO', 'SE', 'SG', 'SK', 'SV', 'TH', 'TR', 'TW', 'US', 'UY', 'VN', 'ZA'], 'external_urls': {'spotify': 'https://open.spotify.com/album/1hnFNY7vQA0VipdplCdhPJ'}, 'href': 'https://api.spotify.com/v1/albums/1hnFNY7vQA0VipdplCdhPJ', 'id': '1hnFNY7vQA0VipdplCdhPJ', 'images': [{'height': 640, 'url': 'https://i.scdn.co/image/6e01742ae1bb73058517c27c71d25db6d1a7862d', 'width': 640}, {'height': 300, 'url': 'https://i.scdn.co/image/87955825da164218f00fe9f80c73c15d7c4209b1', 'width': 300}, {'height': 64, 'url': 'https://i.scdn.co/image/8ed976ad123026089ce87a8a4d15018f4fb92b9f', 'width': 64}], 'name': 'Clocks', 'release_date': '2003-03-24', 'release_date_precision': 'day', 'type': 'album', 'uri': 'spotify:album:1hnFNY7vQA0VipdplCdhPJ'}, 'artists': [{'external_urls': {'spotify': 'https://open.spotify.com/artist/4gzpq5DPGxSnKTe4SA8HAU'}, 'href': 'https://api.spotify.com/v1/artists/4gzpq5DPGxSnKTe4SA8HAU', 'id': '4gzpq5DPGxSnKTe4SA8HAU', 'name': 'Coldplay', 'type': 'artist', 'uri': 'spotify:artist:4gzpq5DPGxSnKTe4SA8HAU'}], 'available_markets': ['AD', 'AR', 'AT', 'AU', 'BE', 'BG', 'BO', 'BR', 'CA', 'CH', 'CL', 'CO', 'CR', 'CY', 'CZ', 'DE', 'DK', 'DO', 'EC', 'EE', 'ES', 'FI', 'FR', 'GB', 'GR', 'GT', 'HK', 'HN', 'HU', 'ID', 'IE', 'IL', 'IS', 'IT', 'JP', 'LI', 'LT', 'LU', 'LV', 'MC', 'MT', 'MX', 'MY', 'NI', 'NL', 'NO', 'NZ', 'PA', 'PE', 'PH', 'PL', 'PT', 'PY', 'RO', 'SE', 'SG', 'SK', 'SV', 'TH', 'TR', 'TW', 'US', 'UY', 'VN', 'ZA'], 'disc_number': 1, 'duration_ms': 307879, 'explicit': False, 'external_ids': {'isrc': 'GBAYE0200771'}, 'external_urls': {'spotify': 'https://open.spotify.com/track/2Ygs64z9ywJGakuKU8tr6o'}, 'href': 'https://api.spotify.com/v1/tracks/2Ygs64z9ywJGakuKU8tr6o', 'id': '2Ygs64z9ywJGakuKU8tr6o', 'is_local': False, 'name': 'Clocks', 'popularity': 54, 'preview_url': 'https://p.scdn.co/mp3-preview/24c7fe858b234e3cb21872cd03ab44b669163fbb?cid=f9e7bf70628e48acb0ae0878c7e28189', 'track_number': 1, 'type': 'track', 'uri': 'spotify:track:2Ygs64z9ywJGakuKU8tr6o'}, {'album': {'album_type': 'album', 'artists': [{'external_urls': {'spotify': 'https://open.spotify.com/artist/6kART38d9tWb1yOcSO40YH'}, 'href': 'https://api.spotify.com/v1/artists/6kART38d9tWb1yOcSO40YH', 'id': '6kART38d9tWb1yOcSO40YH', 'name': 'Eklipse', 'type': 'artist', 'uri': 'spotify:artist:6kART38d9tWb1yOcSO40YH'}], 'available_markets': ['CA', 'US'], 'external_urls': {'spotify': 'https://open.spotify.com/album/3duk4PVA7r012ysSojmnXv'}, 'href': 'https://api.spotify.com/v1/albums/3duk4PVA7r012ysSojmnXv', 'id': '3duk4PVA7r012ysSojmnXv', 'images': [{'height': 640, 'url': 'https://i.scdn.co/image/bef9902f42d92e4264def4c5ce878a134bf74a5f', 'width': 640}, {'height': 300, 'url': 'https://i.scdn.co/image/35319feb048bd2af6bea335a529f8edb95686881', 'width': 300}, {'height': 64, 'url': 'https://i.scdn.co/image/c54c3845356d418013c5b72dd076d2bba49ef560', 'width': 64}], 'name': 'A Night In Strings', 'release_date': '2013-06-25', 'release_date_precision': 'day', 'type': 'album', 'uri': 'spotify:album:3duk4PVA7r012ysSojmnXv'}, 'artists': [{'external_urls': {'spotify': 'https://open.spotify.com/artist/6kART38d9tWb1yOcSO40YH'}, 'href': 'https://api.spotify.com/v1/artists/6kART38d9tWb1yOcSO40YH', 'id': '6kART38d9tWb1yOcSO40YH', 'name': 'Eklipse', 'type': 'artist', 'uri': 'spotify:artist:6kART38d9tWb1yOcSO40YH'}], 'available_markets': ['CA', 'US'], 'disc_number': 1, 'duration_ms': 314293, 'explicit': False, 'external_ids': {'isrc': 'DEZ901200163'}, 'external_urls': {'spotify': 'https://open.spotify.com/track/2Pv2aeT9K8EH0b0HgCJxDv'}, 'href': 'https://api.spotify.com/v1/tracks/2Pv2aeT9K8EH0b0HgCJxDv', 'id': '2Pv2aeT9K8EH0b0HgCJxDv', 'is_local': False, 'name': 'Clocks - Coldplay', 'popularity': 42, 'preview_url': 'https://p.scdn.co/mp3-preview/2dd99fa42d53cf551741394ce99d4b353b3ddd4a?cid=f9e7bf70628e48acb0ae0878c7e28189', 'track_number': 10, 'type': 'track', 'uri': 'spotify:track:2Pv2aeT9K8EH0b0HgCJxDv'}, {'album': {'album_type': 'album', 'artists': [{'external_urls': {'spotify': 'https://open.spotify.com/artist/5bHjVR4F2Tfq4Ha6x7K6wU'}, 'href': 'https://api.spotify.com/v1/artists/5bHjVR4F2Tfq4Ha6x7K6wU', 'id': '5bHjVR4F2Tfq4Ha6x7K6wU', 'name': 'Rockabye Baby!', 'type': 'artist', 'uri': 'spotify:artist:5bHjVR4F2Tfq4Ha6x7K6wU'}], 'available_markets': ['AD', 'AR', 'AT', 'AU', 'BE', 'BG', 'BO', 'BR', 'CA', 'CH', 'CL', 'CO', 'CR', 'CY', 'CZ', 'DE', 'DK', 'DO', 'EC', 'EE', 'ES', 'FI', 'FR', 'GB', 'GR', 'GT', 'HK', 'HN', 'HU', 'ID', 'IE', 'IL', 'IS', 'IT', 'LI', 'LT', 'LU', 'LV', 'MC', 'MT', 'MX', 'MY', 'NI', 'NL', 'NO', 'NZ', 'PA', 'PE', 'PH', 'PL', 'PT', 'PY', 'RO', 'SE', 'SG', 'SK', 'SV', 'TH', 'TR', 'TW', 'US', 'UY', 'VN', 'ZA'], 'external_urls': {'spotify': 'https://open.spotify.com/album/024hcYNo4l8DXgCfoXR4JA'}, 'href': 'https://api.spotify.com/v1/albums/024hcYNo4l8DXgCfoXR4JA', 'id': '024hcYNo4l8DXgCfoXR4JA', 'images': [{'height': 640, 'url': 'https://i.scdn.co/image/bbcde4bdd4f6172264a3bf83cf2b59b301dd4ea7', 'width': 640}, {'height': 300, 'url': 'https://i.scdn.co/image/e5635ede2dd4e26df558ed5e4485eb30ea1ebbf8', 'width': 300}, {'height': 64, 'url': 'https://i.scdn.co/image/d1f33701e7294ff1241a2d19f9e48c90b4e51644', 'width': 64}], 'name': 'Lullaby Renditions of Coldplay', 'release_date': '2007-03-13', 'release_date_precision': 'day', 'type': 'album', 'uri': 'spotify:album:024hcYNo4l8DXgCfoXR4JA'}, 'artists': [{'external_urls': {'spotify': 'https://open.spotify.com/artist/5bHjVR4F2Tfq4Ha6x7K6wU'}, 'href': 'https://api.spotify.com/v1/artists/5bHjVR4F2Tfq4Ha6x7K6wU', 'id': '5bHjVR4F2Tfq4Ha6x7K6wU', 'name': 'Rockabye Baby!', 'type': 'artist', 'uri': 'spotify:artist:5bHjVR4F2Tfq4Ha6x7K6wU'}], 'available_markets': ['AD', 'AR', 'AT', 'AU', 'BE', 'BG', 'BO', 'BR', 'CA', 'CH', 'CL', 'CO', 'CR', 'CY', 'CZ', 'DE', 'DK', 'DO', 'EC', 'EE', 'ES', 'FI', 'FR', 'GB', 'GR', 'GT', 'HK', 'HN', 'HU', 'ID', 'IE', 'IL', 'IS', 'IT', 'LI', 'LT', 'LU', 'LV', 'MC', 'MT', 'MX', 'MY', 'NI', 'NL', 'NO', 'NZ', 'PA', 'PE', 'PH', 'PL', 'PT', 'PY', 'RO', 'SE', 'SG', 'SK', 'SV', 'TH', 'TR', 'TW', 'US', 'UY', 'VN', 'ZA'], 'disc_number': 1, 'duration_ms': 307600, 'explicit': False, 'external_ids': {'isrc': 'US25T9914257'}, 'external_urls': {'spotify': 'https://open.spotify.com/track/7gB0K0wT0YHvZp2rMeYNEE'}, 'href': 'https://api.spotify.com/v1/tracks/7gB0K0wT0YHvZp2rMeYNEE', 'id': '7gB0K0wT0YHvZp2rMeYNEE', 'is_local': False, 'name': 'Clocks', 'popularity': 44, 'preview_url': 'https://p.scdn.co/mp3-preview/3032f344010dbd823e1ed1fa7593e5d200494ba1?cid=f9e7bf70628e48acb0ae0878c7e28189', 'track_number': 2, 'type': 'track', 'uri': 'spotify:track:7gB0K0wT0YHvZp2rMeYNEE'}, {'album': {'album_type': 'album', 'artists': [{'external_urls': {'spotify': 'https://open.spotify.com/artist/7kXpvrS3xtr0nGzNFGuuQq'}, 'href': 'https://api.spotify.com/v1/artists/7kXpvrS3xtr0nGzNFGuuQq', 'id': '7kXpvrS3xtr0nGzNFGuuQq', 'name': 'Rhythms Del Mundo', 'type': 'artist', 'uri': 'spotify:artist:7kXpvrS3xtr0nGzNFGuuQq'}], 'available_markets': ['US'], 'external_urls': {'spotify': 'https://open.spotify.com/album/4DArlPKe9AFPi2YKmdNbV2'}, 'href': 'https://api.spotify.com/v1/albums/4DArlPKe9AFPi2YKmdNbV2', 'id': '4DArlPKe9AFPi2YKmdNbV2', 'images': [{'height': 571, 'url': 'https://i.scdn.co/image/9714a9341b4b8edc9fb57af9b269ddb42b89d67f', 'width': 640}, {'height': 268, 'url': 'https://i.scdn.co/image/d909c3ba717d699e94a6ff39c5daf7d3a96e5e63', 'width': 300}, {'height': 57, 'url': 'https://i.scdn.co/image/3bb2affda028799bbbfc62b0c9475fd8a153caae', 'width': 64}], 'name': 'Rhythms Del Mundo Cuba', 'release_date': '2006-01-01', 'release_date_precision': 'day', 'type': 'album', 'uri': 'spotify:album:4DArlPKe9AFPi2YKmdNbV2'}, 'artists': [{'external_urls': {'spotify': 'https://open.spotify.com/artist/7kXpvrS3xtr0nGzNFGuuQq'}, 'href': 'https://api.spotify.com/v1/artists/7kXpvrS3xtr0nGzNFGuuQq', 'id': '7kXpvrS3xtr0nGzNFGuuQq', 'name': 'Rhythms Del Mundo', 'type': 'artist', 'uri': 'spotify:artist:7kXpvrS3xtr0nGzNFGuuQq'}, {'external_urls': {'spotify': 'https://open.spotify.com/artist/4gzpq5DPGxSnKTe4SA8HAU'}, 'href': 'https://api.spotify.com/v1/artists/4gzpq5DPGxSnKTe4SA8HAU', 'id': '4gzpq5DPGxSnKTe4SA8HAU', 'name': 'Coldplay', 'type': 'artist', 'uri': 'spotify:artist:4gzpq5DPGxSnKTe4SA8HAU'}], 'available_markets': ['US'], 'disc_number': 1, 'duration_ms': 299866, 'explicit': False, 'external_ids': {'isrc': 'GBUM70604438'}, 'external_urls': {'spotify': 'https://open.spotify.com/track/2ok6yTEdjGVklpOPfmXnr1'}, 'href': 'https://api.spotify.com/v1/tracks/2ok6yTEdjGVklpOPfmXnr1', 'id': '2ok6yTEdjGVklpOPfmXnr1', 'is_local': False, 'name': 'Clocks', 'popularity': 39, 'preview_url': None, 'track_number': 1, 'type': 'track', 'uri': 'spotify:track:2ok6yTEdjGVklpOPfmXnr1'}, {'album': {'album_type': 'compilation', 'artists': [{'external_urls': {'spotify': 'https://open.spotify.com/artist/4gzpq5DPGxSnKTe4SA8HAU'}, 'href': 'https://api.spotify.com/v1/artists/4gzpq5DPGxSnKTe4SA8HAU', 'id': '4gzpq5DPGxSnKTe4SA8HAU', 'name': 'Coldplay', 'type': 'artist', 'uri': 'spotify:artist:4gzpq5DPGxSnKTe4SA8HAU'}], 'available_markets': ['AD', 'AR', 'AT', 'AU', 'BE', 'BG', 'BO', 'BR', 'CA', 'CH', 'CL', 'CO', 'CR', 'CY', 'CZ', 'DE', 'DK', 'DO', 'EC', 'EE', 'ES', 'FI', 'FR', 'GB', 'GR', 'GT', 'HK', 'HN', 'HU', 'ID', 'IE', 'IL', 'IS', 'IT', 'JP', 'LT', 'LU', 'LV', 'MC', 'MT', 'MX', 'MY', 'NI', 'NL', 'NO', 'NZ', 'PA', 'PE', 'PH', 'PL', 'PT', 'PY', 'RO', 'SE', 'SG', 'SK', 'SV', 'TH', 'TR', 'TW', 'US', 'UY', 'VN', 'ZA'], 'external_urls': {'spotify': 'https://open.spotify.com/album/2OkEsqGTfu8PWRrNHzfr0m'}, 'href': 'https://api.spotify.com/v1/albums/2OkEsqGTfu8PWRrNHzfr0m', 'id': '2OkEsqGTfu8PWRrNHzfr0m', 'images': [{'height': 640, 'url': 'https://i.scdn.co/image/718a8effab3796b582100e3ff21ca78d52bd6a52', 'width': 640}, {'height': 300, 'url': 'https://i.scdn.co/image/0cbd8d11278bc8c4ae283fd9b7bb5b61ca8ebfdc', 'width': 300}, {'height': 64, 'url': 'https://i.scdn.co/image/50633ca4fff421b5f1e29c7a26ec920afa3cb750', 'width': 64}], 'name': 'Live 2012', 'release_date': '2012-11-19', 'release_date_precision': 'day', 'type': 'album', 'uri': 'spotify:album:2OkEsqGTfu8PWRrNHzfr0m'}, 'artists': [{'external_urls': {'spotify': 'https://open.spotify.com/artist/4gzpq5DPGxSnKTe4SA8HAU'}, 'href': 'https://api.spotify.com/v1/artists/4gzpq5DPGxSnKTe4SA8HAU', 'id': '4gzpq5DPGxSnKTe4SA8HAU', 'name': 'Coldplay', 'type': 'artist', 'uri': 'spotify:artist:4gzpq5DPGxSnKTe4SA8HAU'}], 'available_markets': ['AD', 'AR', 'AT', 'AU', 'BE', 'BG', 'BO', 'BR', 'CA', 'CH', 'CL', 'CO', 'CR', 'CY', 'CZ', 'DE', 'DK', 'DO', 'EC', 'EE', 'ES', 'FI', 'FR', 'GB', 'GR', 'GT', 'HK', 'HN', 'HU', 'ID', 'IE', 'IL', 'IS', 'IT', 'JP', 'LT', 'LU', 'LV', 'MC', 'MT', 'MX', 'MY', 'NI', 'NL', 'NO', 'NZ', 'PA', 'PE', 'PH', 'PL', 'PT', 'PY', 'RO', 'SE', 'SG', 'SK', 'SV', 'TH', 'TR', 'TW', 'US', 'UY', 'VN', 'ZA'], 'disc_number': 1, 'duration_ms': 284960, 'explicit': False, 'external_ids': {'isrc': 'GBAYE1202191'}, 'external_urls': {'spotify': 'https://open.spotify.com/track/7LIQNY8P7ZGxilKVX88MF1'}, 'href': 'https://api.spotify.com/v1/tracks/7LIQNY8P7ZGxilKVX88MF1', 'id': '7LIQNY8P7ZGxilKVX88MF1', 'is_local': False, 'name': 'Clocks - Live', 'popularity': 48, 'preview_url': 'https://p.scdn.co/mp3-preview/accd1267dd1f599278bd9d4276e613d3490545ca?cid=f9e7bf70628e48acb0ae0878c7e28189', 'track_number': 13, 'type': 'track', 'uri': 'spotify:track:7LIQNY8P7ZGxilKVX88MF1'}, {'album': {'album_type': 'single', 'artists': [{'external_urls': {'spotify': 'https://open.spotify.com/artist/4gzpq5DPGxSnKTe4SA8HAU'}, 'href': 'https://api.spotify.com/v1/artists/4gzpq5DPGxSnKTe4SA8HAU', 'id': '4gzpq5DPGxSnKTe4SA8HAU', 'name': 'Coldplay', 'type': 'artist', 'uri': 'spotify:artist:4gzpq5DPGxSnKTe4SA8HAU'}], 'available_markets': ['CA', 'US'], 'external_urls': {'spotify': 'https://open.spotify.com/album/40H08qmX1VRMOiBy4x7epM'}, 'href': 'https://api.spotify.com/v1/albums/40H08qmX1VRMOiBy4x7epM', 'id': '40H08qmX1VRMOiBy4x7epM', 'images': [{'height': 640, 'url': 'https://i.scdn.co/image/bbbe1aeecc89a09918aeb0abb6a5c54d742d7a8c', 'width': 640}, {'height': 300, 'url': 'https://i.scdn.co/image/56b889c457a087a219d98f0b4ce212036f2b8cb2', 'width': 300}, {'height': 64, 'url': 'https://i.scdn.co/image/d4eff6fd15f4d19321a4ec8e5cd811246a1f2c30', 'width': 64}], 'name': 'Clocks', 'release_date': '2003-03-24', 'release_date_precision': 'day', 'type': 'album', 'uri': 'spotify:album:40H08qmX1VRMOiBy4x7epM'}, 'artists': [{'external_urls': {'spotify': 'https://open.spotify.com/artist/4gzpq5DPGxSnKTe4SA8HAU'}, 'href': 'https://api.spotify.com/v1/artists/4gzpq5DPGxSnKTe4SA8HAU', 'id': '4gzpq5DPGxSnKTe4SA8HAU', 'name': 'Coldplay', 'type': 'artist', 'uri': 'spotify:artist:4gzpq5DPGxSnKTe4SA8HAU'}], 'available_markets': ['CA', 'US'], 'disc_number': 1, 'duration_ms': 307466, 'explicit': False, 'external_ids': {'isrc': 'GBAYE0200771'}, 'external_urls': {'spotify': 'https://open.spotify.com/track/4aNSSIfUIHPH74984mdw3r'}, 'href': 'https://api.spotify.com/v1/tracks/4aNSSIfUIHPH74984mdw3r', 'id': '4aNSSIfUIHPH74984mdw3r', 'is_local': False, 'name': 'Clocks', 'popularity': 26, 'preview_url': 'https://p.scdn.co/mp3-preview/fd572d45c2d70064f59d6a7dbfc8298be4b798df?cid=f9e7bf70628e48acb0ae0878c7e28189', 'track_number': 1, 'type': 'track', 'uri': 'spotify:track:4aNSSIfUIHPH74984mdw3r'}, {'album': {'album_type': 'single', 'artists': [{'external_urls': {'spotify': 'https://open.spotify.com/artist/4gzpq5DPGxSnKTe4SA8HAU'}, 'href': 'https://api.spotify.com/v1/artists/4gzpq5DPGxSnKTe4SA8HAU', 'id': '4gzpq5DPGxSnKTe4SA8HAU', 'name': 'Coldplay', 'type': 'artist', 'uri': 'spotify:artist:4gzpq5DPGxSnKTe4SA8HAU'}], 'available_markets': ['AD', 'AR', 'AT', 'AU', 'BE', 'BG', 'BO', 'BR', 'CA', 'CH', 'CL', 'CO', 'CR', 'CY', 'CZ', 'DE', 'DK', 'DO', 'EC', 'EE', 'ES', 'FI', 'FR', 'GB', 'GR', 'GT', 'HK', 'HN', 'HU', 'ID', 'IE', 'IL', 'IS', 'IT', 'JP', 'LI', 'LT', 'LU', 'LV', 'MC', 'MT', 'MX', 'MY', 'NI', 'NL', 'NO', 'NZ', 'PA', 'PE', 'PH', 'PL', 'PT', 'PY', 'RO', 'SE', 'SG', 'SK', 'SV', 'TH', 'TR', 'TW', 'US', 'UY', 'VN', 'ZA'], 'external_urls': {'spotify': 'https://open.spotify.com/album/1hnFNY7vQA0VipdplCdhPJ'}, 'href': 'https://api.spotify.com/v1/albums/1hnFNY7vQA0VipdplCdhPJ', 'id': '1hnFNY7vQA0VipdplCdhPJ', 'images': [{'height': 640, 'url': 'https://i.scdn.co/image/6e01742ae1bb73058517c27c71d25db6d1a7862d', 'width': 640}, {'height': 300, 'url': 'https://i.scdn.co/image/87955825da164218f00fe9f80c73c15d7c4209b1', 'width': 300}, {'height': 64, 'url': 'https://i.scdn.co/image/8ed976ad123026089ce87a8a4d15018f4fb92b9f', 'width': 64}], 'name': 'Clocks', 'release_date': '2003-03-24', 'release_date_precision': 'day', 'type': 'album', 'uri': 'spotify:album:1hnFNY7vQA0VipdplCdhPJ'}, 'artists': [{'external_urls': {'spotify': 'https://open.spotify.com/artist/4gzpq5DPGxSnKTe4SA8HAU'}, 'href': 'https://api.spotify.com/v1/artists/4gzpq5DPGxSnKTe4SA8HAU', 'id': '4gzpq5DPGxSnKTe4SA8HAU', 'name': 'Coldplay', 'type': 'artist', 'uri': 'spotify:artist:4gzpq5DPGxSnKTe4SA8HAU'}], 'available_markets': ['AD', 'AR', 'AT', 'AU', 'BE', 'BG', 'BO', 'BR', 'CA', 'CH', 'CL', 'CO', 'CR', 'CY', 'CZ', 'DE', 'DK', 'DO', 'EC', 'EE', 'ES', 'FI', 'FR', 'GB', 'GR', 'GT', 'HK', 'HN', 'HU', 'ID', 'IE', 'IL', 'IS', 'IT', 'JP', 'LI', 'LT', 'LU', 'LV', 'MC', 'MT', 'MX', 'MY', 'NI', 'NL', 'NO', 'NZ', 'PA', 'PE', 'PH', 'PL', 'PT', 'PY', 'RO', 'SE', 'SG', 'SK', 'SV', 'TH', 'TR', 'TW', 'US', 'UY', 'VN', 'ZA'], 'disc_number': 1, 'duration_ms': 333266, 'explicit': False, 'external_ids': {'isrc': 'GBAYE0202087'}, 'external_urls': {'spotify': 'https://open.spotify.com/track/59tjfzA98dum1TXhJ4XWoe'}, 'href': 'https://api.spotify.com/v1/tracks/59tjfzA98dum1TXhJ4XWoe', 'id': '59tjfzA98dum1TXhJ4XWoe', 'is_local': False, 'name': 'Animals', 'popularity': 40, 'preview_url': 'https://p.scdn.co/mp3-preview/8866fa304fd8a94d9e7bac942d93839c75ad3ab8?cid=f9e7bf70628e48acb0ae0878c7e28189', 'track_number': 3, 'type': 'track', 'uri': 'spotify:track:59tjfzA98dum1TXhJ4XWoe'}, {'album': {'album_type': 'single', 'artists': [{'external_urls': {'spotify': 'https://open.spotify.com/artist/4gzpq5DPGxSnKTe4SA8HAU'}, 'href': 'https://api.spotify.com/v1/artists/4gzpq5DPGxSnKTe4SA8HAU', 'id': '4gzpq5DPGxSnKTe4SA8HAU', 'name': 'Coldplay', 'type': 'artist', 'uri': 'spotify:artist:4gzpq5DPGxSnKTe4SA8HAU'}], 'available_markets': ['AD', 'AR', 'AT', 'AU', 'BE', 'BG', 'BO', 'BR', 'CA', 'CH', 'CL', 'CO', 'CR', 'CY', 'CZ', 'DE', 'DK', 'DO', 'EC', 'EE', 'ES', 'FI', 'FR', 'GB', 'GR', 'GT', 'HK', 'HN', 'HU', 'ID', 'IE', 'IL', 'IS', 'IT', 'JP', 'LI', 'LT', 'LU', 'LV', 'MC', 'MT', 'MX', 'MY', 'NI', 'NL', 'NO', 'NZ', 'PA', 'PE', 'PH', 'PL', 'PT', 'PY', 'RO', 'SE', 'SG', 'SK', 'SV', 'TH', 'TR', 'TW', 'US', 'UY', 'VN', 'ZA'], 'external_urls': {'spotify': 'https://open.spotify.com/album/1hnFNY7vQA0VipdplCdhPJ'}, 'href': 'https://api.spotify.com/v1/albums/1hnFNY7vQA0VipdplCdhPJ', 'id': '1hnFNY7vQA0VipdplCdhPJ', 'images': [{'height': 640, 'url': 'https://i.scdn.co/image/6e01742ae1bb73058517c27c71d25db6d1a7862d', 'width': 640}, {'height': 300, 'url': 'https://i.scdn.co/image/87955825da164218f00fe9f80c73c15d7c4209b1', 'width': 300}, {'height': 64, 'url': 'https://i.scdn.co/image/8ed976ad123026089ce87a8a4d15018f4fb92b9f', 'width': 64}], 'name': 'Clocks', 'release_date': '2003-03-24', 'release_date_precision': 'day', 'type': 'album', 'uri': 'spotify:album:1hnFNY7vQA0VipdplCdhPJ'}, 'artists': [{'external_urls': {'spotify': 'https://open.spotify.com/artist/4gzpq5DPGxSnKTe4SA8HAU'}, 'href': 'https://api.spotify.com/v1/artists/4gzpq5DPGxSnKTe4SA8HAU', 'id': '4gzpq5DPGxSnKTe4SA8HAU', 'name': 'Coldplay', 'type': 'artist', 'uri': 'spotify:artist:4gzpq5DPGxSnKTe4SA8HAU'}], 'available_markets': ['AD', 'AR', 'AT', 'AU', 'BE', 'BG', 'BO', 'BR', 'CA', 'CH', 'CL', 'CO', 'CR', 'CY', 'CZ', 'DE', 'DK', 'DO', 'EC', 'EE', 'ES', 'FI', 'FR', 'GB', 'GR', 'GT', 'HK', 'HN', 'HU', 'ID', 'IE', 'IL', 'IS', 'IT', 'JP', 'LI', 'LT', 'LU', 'LV', 'MC', 'MT', 'MX', 'MY', 'NI', 'NL', 'NO', 'NZ', 'PA', 'PE', 'PH', 'PL', 'PT', 'PY', 'RO', 'SE', 'SG', 'SK', 'SV', 'TH', 'TR', 'TW', 'US', 'UY', 'VN', 'ZA'], 'disc_number': 1, 'duration_ms': 219826, 'explicit': False, 'external_ids': {'isrc': 'GBAYE0202077'}, 'external_urls': {'spotify': 'https://open.spotify.com/track/5ZMqdwtZvvNrpUUTijZem6'}, 'href': 'https://api.spotify.com/v1/tracks/5ZMqdwtZvvNrpUUTijZem6', 'id': '5ZMqdwtZvvNrpUUTijZem6', 'is_local': False, 'name': 'Crests Of Waves', 'popularity': 39, 'preview_url': 'https://p.scdn.co/mp3-preview/94a2072d6aca575a3eebf903b98a85650281e41f?cid=f9e7bf70628e48acb0ae0878c7e28189', 'track_number': 2, 'type': 'track', 'uri': 'spotify:track:5ZMqdwtZvvNrpUUTijZem6'}, {'album': {'album_type': 'compilation', 'artists': [{'external_urls': {'spotify': 'https://open.spotify.com/artist/4gzpq5DPGxSnKTe4SA8HAU'}, 'href': 'https://api.spotify.com/v1/artists/4gzpq5DPGxSnKTe4SA8HAU', 'id': '4gzpq5DPGxSnKTe4SA8HAU', 'name': 'Coldplay', 'type': 'artist', 'uri': 'spotify:artist:4gzpq5DPGxSnKTe4SA8HAU'}], 'available_markets': ['AD', 'AR', 'AT', 'AU', 'BE', 'BG', 'BO', 'BR', 'CA', 'CH', 'CL', 'CO', 'CR', 'CY', 'CZ', 'DE', 'DK', 'DO', 'EC', 'EE', 'ES', 'FI', 'FR', 'GB', 'GR', 'GT', 'HK', 'HN', 'HU', 'ID', 'IE', 'IL', 'IS', 'IT', 'JP', 'LI', 'LT', 'LU', 'LV', 'MC', 'MT', 'MX', 'MY', 'NI', 'NL', 'NO', 'NZ', 'PA', 'PE', 'PH', 'PL', 'PT', 'PY', 'RO', 'SE', 'SG', 'SK', 'SV', 'TH', 'TR', 'TW', 'US', 'UY', 'VN', 'ZA'], 'external_urls': {'spotify': 'https://open.spotify.com/album/3JMOZD2qixTTLRW9I6JuF4'}, 'href': 'https://api.spotify.com/v1/albums/3JMOZD2qixTTLRW9I6JuF4', 'id': '3JMOZD2qixTTLRW9I6JuF4', 'images': [{'height': 640, 'url': 'https://i.scdn.co/image/fef94394bd30d97fe4e85e53b3d576c781e216dd', 'width': 640}, {'height': 300, 'url': 'https://i.scdn.co/image/0155a8a87ff779a439aa098b008c868c7e65665b', 'width': 300}, {'height': 64, 'url': 'https://i.scdn.co/image/be371d181dd1b6f04e2b05c154ac40a89cd665e6', 'width': 64}], 'name': 'Live 2003', 'release_date': '2003-11-01', 'release_date_precision': 'day', 'type': 'album', 'uri': 'spotify:album:3JMOZD2qixTTLRW9I6JuF4'}, 'artists': [{'external_urls': {'spotify': 'https://open.spotify.com/artist/4gzpq5DPGxSnKTe4SA8HAU'}, 'href': 'https://api.spotify.com/v1/artists/4gzpq5DPGxSnKTe4SA8HAU', 'id': '4gzpq5DPGxSnKTe4SA8HAU', 'name': 'Coldplay', 'type': 'artist', 'uri': 'spotify:artist:4gzpq5DPGxSnKTe4SA8HAU'}], 'available_markets': ['AD', 'AR', 'AT', 'AU', 'BE', 'BG', 'BO', 'BR', 'CA', 'CH', 'CL', 'CO', 'CR', 'CY', 'CZ', 'DE', 'DK', 'DO', 'EC', 'EE', 'ES', 'FI', 'FR', 'GB', 'GR', 'GT', 'HK', 'HN', 'HU', 'ID', 'IE', 'IL', 'IS', 'IT', 'JP', 'LI', 'LT', 'LU', 'LV', 'MC', 'MT', 'MX', 'MY', 'NI', 'NL', 'NO', 'NZ', 'PA', 'PE', 'PH', 'PL', 'PT', 'PY', 'RO', 'SE', 'SG', 'SK', 'SV', 'TH', 'TR', 'TW', 'US', 'UY', 'VN', 'ZA'], 'disc_number': 1, 'duration_ms': 332426, 'explicit': False, 'external_ids': {'isrc': 'GBAYE0301691'}, 'external_urls': {'spotify': 'https://open.spotify.com/track/3cYgC50pVnjPKuh6b0xmZk'}, 'href': 'https://api.spotify.com/v1/tracks/3cYgC50pVnjPKuh6b0xmZk', 'id': '3cYgC50pVnjPKuh6b0xmZk', 'is_local': False, 'name': 'Clocks - Live In Sydney', 'popularity': 41, 'preview_url': 'https://p.scdn.co/mp3-preview/590355778e7752e30aea557ec1d83cd1a8924894?cid=f9e7bf70628e48acb0ae0878c7e28189', 'track_number': 10, 'type': 'track', 'uri': 'spotify:track:3cYgC50pVnjPKuh6b0xmZk'}], 'limit': 10, 'next': 'https://api.spotify.com/v1/search?query=Clocks+Coldplay&type=track&offset=10&limit=10', 'offset': 0, 'previous': None, 'total': 263}}\n"
     ]
    }
   ],
   "source": [
    "#for track and artist\n",
    "import spotipy\n",
    "from spotipy.oauth2 import SpotifyClientCredentials\n",
    "\n",
    "# Make your own Spotify app at https://beta.developer.spotify.com/dashboard/applications\n",
    "client_id = 'f9e7bf70628e48acb0ae0878c7e28189'\n",
    "client_secret = '6dbea35c563749039101f428b08a8437'\n",
    "title = 'Clocks'\n",
    "artist = 'Coldplay'\n",
    "\n",
    "client_credentials_manager = SpotifyClientCredentials(client_id=client_id, client_secret=client_secret)\n",
    "sp = spotipy.Spotify(client_credentials_manager=client_credentials_manager)\n",
    "sp.trace=False\n",
    "search_querry = title + ' ' + artist\n",
    "result = sp.search(search_querry)\n",
    "for i in result['tracks']['items']:\n",
    "    # Find a songh that matches title and artist\n",
    "    if (i['artists'][0]['name'] == artist) and (i['name'] == title):\n",
    "        print (i['uri'])\n",
    "        break\n",
    "else:\n",
    "    try:\n",
    "        # Just take the first song returned by the search (might be named differently)\n",
    "        print (result['tracks']['items'][0]['uri'])\n",
    "    except:\n",
    "        # No results for artist and title\n",
    "        print (\"Cannot Find URI\")\n",
    "        \n",
    "print(result)        "
   ]
  },
  {
   "cell_type": "code",
   "execution_count": 112,
   "metadata": {},
   "outputs": [
    {
     "name": "stdout",
     "output_type": "stream",
     "text": [
      "spotify:artist:4gzpq5DPGxSnKTe4SA8HAU\n",
      "Coldplay\n",
      "{'tracks': {'href': 'https://api.spotify.com/v1/search?query=Coldplay&type=track&offset=0&limit=10', 'items': [{'album': {'album_type': 'album', 'artists': [{'external_urls': {'spotify': 'https://open.spotify.com/artist/4gzpq5DPGxSnKTe4SA8HAU'}, 'href': 'https://api.spotify.com/v1/artists/4gzpq5DPGxSnKTe4SA8HAU', 'id': '4gzpq5DPGxSnKTe4SA8HAU', 'name': 'Coldplay', 'type': 'artist', 'uri': 'spotify:artist:4gzpq5DPGxSnKTe4SA8HAU'}], 'available_markets': ['AD', 'AR', 'BG', 'BO', 'BR', 'CA', 'CL', 'CO', 'CR', 'CY', 'CZ', 'DK', 'DO', 'EC', 'EE', 'ES', 'FI', 'FR', 'GR', 'GT', 'HK', 'HN', 'HU', 'ID', 'IL', 'IS', 'LI', 'LT', 'LU', 'LV', 'MC', 'MT', 'MX', 'MY', 'NI', 'NO', 'PA', 'PE', 'PH', 'PL', 'PT', 'PY', 'RO', 'SE', 'SG', 'SK', 'SV', 'TH', 'TR', 'TW', 'US', 'UY', 'VN', 'ZA'], 'external_urls': {'spotify': 'https://open.spotify.com/album/1CEODgTmTwLyabvwd7HBty'}, 'href': 'https://api.spotify.com/v1/albums/1CEODgTmTwLyabvwd7HBty', 'id': '1CEODgTmTwLyabvwd7HBty', 'images': [{'height': 640, 'url': 'https://i.scdn.co/image/009aa1548af52b1d834648c6452f3804f086fead', 'width': 640}, {'height': 300, 'url': 'https://i.scdn.co/image/a9e3493350233c5ee3f290b98d77664e83377982', 'width': 300}, {'height': 64, 'url': 'https://i.scdn.co/image/7759ebd402ccb7ceec6618f5f0ab708359432f01', 'width': 64}], 'name': 'Viva La Vida Or Death And All His Friends', 'release_date': '2008-05-26', 'release_date_precision': 'day', 'type': 'album', 'uri': 'spotify:album:1CEODgTmTwLyabvwd7HBty'}, 'artists': [{'external_urls': {'spotify': 'https://open.spotify.com/artist/4gzpq5DPGxSnKTe4SA8HAU'}, 'href': 'https://api.spotify.com/v1/artists/4gzpq5DPGxSnKTe4SA8HAU', 'id': '4gzpq5DPGxSnKTe4SA8HAU', 'name': 'Coldplay', 'type': 'artist', 'uri': 'spotify:artist:4gzpq5DPGxSnKTe4SA8HAU'}], 'available_markets': ['AD', 'AR', 'BG', 'BO', 'BR', 'CA', 'CL', 'CO', 'CR', 'CY', 'CZ', 'DK', 'DO', 'EC', 'EE', 'ES', 'FI', 'FR', 'GR', 'GT', 'HK', 'HN', 'HU', 'ID', 'IL', 'IS', 'LI', 'LT', 'LU', 'LV', 'MC', 'MT', 'MX', 'MY', 'NI', 'NO', 'PA', 'PE', 'PH', 'PL', 'PT', 'PY', 'RO', 'SE', 'SG', 'SK', 'SV', 'TH', 'TR', 'TW', 'US', 'UY', 'VN', 'ZA'], 'disc_number': 1, 'duration_ms': 242373, 'explicit': False, 'external_ids': {'isrc': 'GBAYE0800265'}, 'external_urls': {'spotify': 'https://open.spotify.com/track/1mea3bSkSGXuIRvnydlB5b'}, 'href': 'https://api.spotify.com/v1/tracks/1mea3bSkSGXuIRvnydlB5b', 'id': '1mea3bSkSGXuIRvnydlB5b', 'is_local': False, 'name': 'Viva La Vida', 'popularity': 80, 'preview_url': 'https://p.scdn.co/mp3-preview/bb0a310830636ebf8e5f6a1fa03d129a9724f7ec?cid=f9e7bf70628e48acb0ae0878c7e28189', 'track_number': 7, 'type': 'track', 'uri': 'spotify:track:1mea3bSkSGXuIRvnydlB5b'}, {'album': {'album_type': 'album', 'artists': [{'external_urls': {'spotify': 'https://open.spotify.com/artist/4gzpq5DPGxSnKTe4SA8HAU'}, 'href': 'https://api.spotify.com/v1/artists/4gzpq5DPGxSnKTe4SA8HAU', 'id': '4gzpq5DPGxSnKTe4SA8HAU', 'name': 'Coldplay', 'type': 'artist', 'uri': 'spotify:artist:4gzpq5DPGxSnKTe4SA8HAU'}], 'available_markets': ['AD', 'AR', 'AT', 'AU', 'BE', 'BG', 'BO', 'BR', 'CA', 'CH', 'CL', 'CO', 'CR', 'CY', 'CZ', 'DE', 'DK', 'DO', 'EC', 'EE', 'ES', 'FI', 'FR', 'GB', 'GR', 'GT', 'HK', 'HN', 'HU', 'ID', 'IE', 'IL', 'IS', 'IT', 'JP', 'LI', 'LT', 'LU', 'LV', 'MC', 'MT', 'MX', 'MY', 'NI', 'NL', 'NO', 'NZ', 'PA', 'PE', 'PH', 'PL', 'PT', 'PY', 'RO', 'SE', 'SG', 'SK', 'SV', 'TH', 'TR', 'TW', 'US', 'UY', 'VN', 'ZA'], 'external_urls': {'spotify': 'https://open.spotify.com/album/0RHX9XECH8IVI3LNgWDpmQ'}, 'href': 'https://api.spotify.com/v1/albums/0RHX9XECH8IVI3LNgWDpmQ', 'id': '0RHX9XECH8IVI3LNgWDpmQ', 'images': [{'height': 640, 'url': 'https://i.scdn.co/image/70d8660d8b802835a280ce75799d30db262f7094', 'width': 640}, {'height': 300, 'url': 'https://i.scdn.co/image/671fb0a2ecb0c77cb693eb150bde7b6fa94b3f32', 'width': 300}, {'height': 64, 'url': 'https://i.scdn.co/image/fb5bf70413af17edae091532e9f0dc442af852cf', 'width': 64}], 'name': 'A Rush Of Blood To The Head', 'release_date': '2002-08-08', 'release_date_precision': 'day', 'type': 'album', 'uri': 'spotify:album:0RHX9XECH8IVI3LNgWDpmQ'}, 'artists': [{'external_urls': {'spotify': 'https://open.spotify.com/artist/4gzpq5DPGxSnKTe4SA8HAU'}, 'href': 'https://api.spotify.com/v1/artists/4gzpq5DPGxSnKTe4SA8HAU', 'id': '4gzpq5DPGxSnKTe4SA8HAU', 'name': 'Coldplay', 'type': 'artist', 'uri': 'spotify:artist:4gzpq5DPGxSnKTe4SA8HAU'}], 'available_markets': ['AD', 'AR', 'AT', 'AU', 'BE', 'BG', 'BO', 'BR', 'CA', 'CH', 'CL', 'CO', 'CR', 'CY', 'CZ', 'DE', 'DK', 'DO', 'EC', 'EE', 'ES', 'FI', 'FR', 'GB', 'GR', 'GT', 'HK', 'HN', 'HU', 'ID', 'IE', 'IL', 'IS', 'IT', 'JP', 'LI', 'LT', 'LU', 'LV', 'MC', 'MT', 'MX', 'MY', 'NI', 'NL', 'NO', 'NZ', 'PA', 'PE', 'PH', 'PL', 'PT', 'PY', 'RO', 'SE', 'SG', 'SK', 'SV', 'TH', 'TR', 'TW', 'US', 'UY', 'VN', 'ZA'], 'disc_number': 1, 'duration_ms': 309600, 'explicit': False, 'external_ids': {'isrc': 'GBAYE0200772'}, 'external_urls': {'spotify': 'https://open.spotify.com/track/75JFxkI2RXiU7L9VXzMkle'}, 'href': 'https://api.spotify.com/v1/tracks/75JFxkI2RXiU7L9VXzMkle', 'id': '75JFxkI2RXiU7L9VXzMkle', 'is_local': False, 'name': 'The Scientist', 'popularity': 85, 'preview_url': 'https://p.scdn.co/mp3-preview/95cb9df1b056d759920b5e85ad7f9aff0a390671?cid=f9e7bf70628e48acb0ae0878c7e28189', 'track_number': 4, 'type': 'track', 'uri': 'spotify:track:75JFxkI2RXiU7L9VXzMkle'}, {'album': {'album_type': 'album', 'artists': [{'external_urls': {'spotify': 'https://open.spotify.com/artist/4gzpq5DPGxSnKTe4SA8HAU'}, 'href': 'https://api.spotify.com/v1/artists/4gzpq5DPGxSnKTe4SA8HAU', 'id': '4gzpq5DPGxSnKTe4SA8HAU', 'name': 'Coldplay', 'type': 'artist', 'uri': 'spotify:artist:4gzpq5DPGxSnKTe4SA8HAU'}], 'available_markets': ['AD', 'AR', 'AT', 'AU', 'BE', 'BG', 'BO', 'BR', 'CA', 'CH', 'CL', 'CO', 'CR', 'CY', 'CZ', 'DE', 'DK', 'DO', 'EC', 'EE', 'ES', 'FI', 'FR', 'GB', 'GR', 'GT', 'HK', 'HN', 'HU', 'ID', 'IE', 'IL', 'IS', 'IT', 'JP', 'LI', 'LT', 'LU', 'LV', 'MC', 'MT', 'MX', 'MY', 'NI', 'NL', 'NO', 'NZ', 'PA', 'PE', 'PH', 'PL', 'PT', 'PY', 'RO', 'SE', 'SG', 'SK', 'SV', 'TH', 'TR', 'TW', 'US', 'UY', 'VN', 'ZA'], 'external_urls': {'spotify': 'https://open.spotify.com/album/6ZG5lRT77aJ3btmArcykra'}, 'href': 'https://api.spotify.com/v1/albums/6ZG5lRT77aJ3btmArcykra', 'id': '6ZG5lRT77aJ3btmArcykra', 'images': [{'height': 640, 'url': 'https://i.scdn.co/image/495b0549379fc4c324445fd7d2bfa219a8c18a90', 'width': 640}, {'height': 300, 'url': 'https://i.scdn.co/image/94ac1cac6fcf2be17533ec6e7d638014b90642a2', 'width': 300}, {'height': 64, 'url': 'https://i.scdn.co/image/68ff8a9ad0e1c8a7196ce5a3f7224b03cc3dec33', 'width': 64}], 'name': 'Parachutes', 'release_date': '2000-07-10', 'release_date_precision': 'day', 'type': 'album', 'uri': 'spotify:album:6ZG5lRT77aJ3btmArcykra'}, 'artists': [{'external_urls': {'spotify': 'https://open.spotify.com/artist/4gzpq5DPGxSnKTe4SA8HAU'}, 'href': 'https://api.spotify.com/v1/artists/4gzpq5DPGxSnKTe4SA8HAU', 'id': '4gzpq5DPGxSnKTe4SA8HAU', 'name': 'Coldplay', 'type': 'artist', 'uri': 'spotify:artist:4gzpq5DPGxSnKTe4SA8HAU'}], 'available_markets': ['AD', 'AR', 'AT', 'AU', 'BE', 'BG', 'BO', 'BR', 'CA', 'CH', 'CL', 'CO', 'CR', 'CY', 'CZ', 'DE', 'DK', 'DO', 'EC', 'EE', 'ES', 'FI', 'FR', 'GB', 'GR', 'GT', 'HK', 'HN', 'HU', 'ID', 'IE', 'IL', 'IS', 'IT', 'JP', 'LI', 'LT', 'LU', 'LV', 'MC', 'MT', 'MX', 'MY', 'NI', 'NL', 'NO', 'NZ', 'PA', 'PE', 'PH', 'PL', 'PT', 'PY', 'RO', 'SE', 'SG', 'SK', 'SV', 'TH', 'TR', 'TW', 'US', 'UY', 'VN', 'ZA'], 'disc_number': 1, 'duration_ms': 266773, 'explicit': False, 'external_ids': {'isrc': 'GBAYE0000267'}, 'external_urls': {'spotify': 'https://open.spotify.com/track/3AJwUDP919kvQ9QcozQPxg'}, 'href': 'https://api.spotify.com/v1/tracks/3AJwUDP919kvQ9QcozQPxg', 'id': '3AJwUDP919kvQ9QcozQPxg', 'is_local': False, 'name': 'Yellow', 'popularity': 82, 'preview_url': 'https://p.scdn.co/mp3-preview/c119ca773ef844108da21c4679dc54c007cf0926?cid=f9e7bf70628e48acb0ae0878c7e28189', 'track_number': 5, 'type': 'track', 'uri': 'spotify:track:3AJwUDP919kvQ9QcozQPxg'}, {'album': {'album_type': 'album', 'artists': [{'external_urls': {'spotify': 'https://open.spotify.com/artist/4gzpq5DPGxSnKTe4SA8HAU'}, 'href': 'https://api.spotify.com/v1/artists/4gzpq5DPGxSnKTe4SA8HAU', 'id': '4gzpq5DPGxSnKTe4SA8HAU', 'name': 'Coldplay', 'type': 'artist', 'uri': 'spotify:artist:4gzpq5DPGxSnKTe4SA8HAU'}], 'available_markets': ['AD', 'AR', 'AT', 'AU', 'BE', 'BG', 'BO', 'BR', 'CA', 'CH', 'CL', 'CO', 'CR', 'CY', 'CZ', 'DE', 'DK', 'DO', 'EC', 'EE', 'ES', 'FI', 'FR', 'GB', 'GR', 'GT', 'HK', 'HN', 'HU', 'ID', 'IE', 'IL', 'IS', 'IT', 'JP', 'LI', 'LT', 'LU', 'LV', 'MC', 'MT', 'MX', 'MY', 'NI', 'NL', 'NO', 'NZ', 'PA', 'PE', 'PH', 'PL', 'PT', 'PY', 'RO', 'SE', 'SG', 'SK', 'SV', 'TH', 'TR', 'TW', 'US', 'UY', 'VN', 'ZA'], 'external_urls': {'spotify': 'https://open.spotify.com/album/4E7bV0pzG0LciBSWTszra6'}, 'href': 'https://api.spotify.com/v1/albums/4E7bV0pzG0LciBSWTszra6', 'id': '4E7bV0pzG0LciBSWTszra6', 'images': [{'height': 640, 'url': 'https://i.scdn.co/image/ce2cb283df41c592e72df1900558d8af97445aa6', 'width': 640}, {'height': 300, 'url': 'https://i.scdn.co/image/3866d7443de4c47b47367d45973afb20e78df161', 'width': 300}, {'height': 64, 'url': 'https://i.scdn.co/image/b251660ff4f59508e50301ce04749679ccdea5ac', 'width': 64}], 'name': 'X & Y', 'release_date': '2005-06-07', 'release_date_precision': 'day', 'type': 'album', 'uri': 'spotify:album:4E7bV0pzG0LciBSWTszra6'}, 'artists': [{'external_urls': {'spotify': 'https://open.spotify.com/artist/4gzpq5DPGxSnKTe4SA8HAU'}, 'href': 'https://api.spotify.com/v1/artists/4gzpq5DPGxSnKTe4SA8HAU', 'id': '4gzpq5DPGxSnKTe4SA8HAU', 'name': 'Coldplay', 'type': 'artist', 'uri': 'spotify:artist:4gzpq5DPGxSnKTe4SA8HAU'}], 'available_markets': ['AD', 'AR', 'AT', 'AU', 'BE', 'BG', 'BO', 'BR', 'CA', 'CH', 'CL', 'CO', 'CR', 'CY', 'CZ', 'DE', 'DK', 'DO', 'EC', 'EE', 'ES', 'FI', 'FR', 'GB', 'GR', 'GT', 'HK', 'HN', 'HU', 'ID', 'IE', 'IL', 'IS', 'IT', 'JP', 'LI', 'LT', 'LU', 'LV', 'MC', 'MT', 'MX', 'MY', 'NI', 'NL', 'NO', 'NZ', 'PA', 'PE', 'PH', 'PL', 'PT', 'PY', 'RO', 'SE', 'SG', 'SK', 'SV', 'TH', 'TR', 'TW', 'US', 'UY', 'VN', 'ZA'], 'disc_number': 1, 'duration_ms': 295533, 'explicit': False, 'external_ids': {'isrc': 'GBAYE0500605'}, 'external_urls': {'spotify': 'https://open.spotify.com/track/7LVHVU3tWfcxj5aiPFEW4Q'}, 'href': 'https://api.spotify.com/v1/tracks/7LVHVU3tWfcxj5aiPFEW4Q', 'id': '7LVHVU3tWfcxj5aiPFEW4Q', 'is_local': False, 'name': 'Fix You', 'popularity': 81, 'preview_url': 'https://p.scdn.co/mp3-preview/b1640815319b2df5ddfac27a28f016319a281468?cid=f9e7bf70628e48acb0ae0878c7e28189', 'track_number': 4, 'type': 'track', 'uri': 'spotify:track:7LVHVU3tWfcxj5aiPFEW4Q'}, {'album': {'album_type': 'album', 'artists': [{'external_urls': {'spotify': 'https://open.spotify.com/artist/69GGBxA162lTqCwzJG5jLp'}, 'href': 'https://api.spotify.com/v1/artists/69GGBxA162lTqCwzJG5jLp', 'id': '69GGBxA162lTqCwzJG5jLp', 'name': 'The Chainsmokers', 'type': 'artist', 'uri': 'spotify:artist:69GGBxA162lTqCwzJG5jLp'}], 'available_markets': ['AD', 'AR', 'AT', 'AU', 'BE', 'BG', 'BO', 'BR', 'CA', 'CH', 'CL', 'CO', 'CR', 'CY', 'CZ', 'DE', 'DK', 'DO', 'EC', 'EE', 'ES', 'FI', 'FR', 'GB', 'GR', 'GT', 'HK', 'HN', 'HU', 'ID', 'IE', 'IL', 'IS', 'IT', 'JP', 'LI', 'LT', 'LU', 'LV', 'MC', 'MT', 'MX', 'MY', 'NI', 'NL', 'NO', 'NZ', 'PA', 'PE', 'PH', 'PL', 'PT', 'PY', 'RO', 'SE', 'SG', 'SK', 'SV', 'TH', 'TR', 'TW', 'US', 'UY', 'VN', 'ZA'], 'external_urls': {'spotify': 'https://open.spotify.com/album/4JPguzRps3kuWDD5GS6oXr'}, 'href': 'https://api.spotify.com/v1/albums/4JPguzRps3kuWDD5GS6oXr', 'id': '4JPguzRps3kuWDD5GS6oXr', 'images': [{'height': 640, 'url': 'https://i.scdn.co/image/df3b17e748de56e4ce78ac29b216d3f99afd0c5a', 'width': 640}, {'height': 300, 'url': 'https://i.scdn.co/image/ec1d389f4b448463b81513c0c5d5e1f6c34faa63', 'width': 300}, {'height': 64, 'url': 'https://i.scdn.co/image/a2ec1de801d5a1e07123750e0216306a6e9c7d80', 'width': 64}], 'name': 'Memories...Do Not Open', 'release_date': '2017-04-07', 'release_date_precision': 'day', 'type': 'album', 'uri': 'spotify:album:4JPguzRps3kuWDD5GS6oXr'}, 'artists': [{'external_urls': {'spotify': 'https://open.spotify.com/artist/69GGBxA162lTqCwzJG5jLp'}, 'href': 'https://api.spotify.com/v1/artists/69GGBxA162lTqCwzJG5jLp', 'id': '69GGBxA162lTqCwzJG5jLp', 'name': 'The Chainsmokers', 'type': 'artist', 'uri': 'spotify:artist:69GGBxA162lTqCwzJG5jLp'}, {'external_urls': {'spotify': 'https://open.spotify.com/artist/4gzpq5DPGxSnKTe4SA8HAU'}, 'href': 'https://api.spotify.com/v1/artists/4gzpq5DPGxSnKTe4SA8HAU', 'id': '4gzpq5DPGxSnKTe4SA8HAU', 'name': 'Coldplay', 'type': 'artist', 'uri': 'spotify:artist:4gzpq5DPGxSnKTe4SA8HAU'}], 'available_markets': ['AD', 'AR', 'AT', 'AU', 'BE', 'BG', 'BO', 'BR', 'CA', 'CH', 'CL', 'CO', 'CR', 'CY', 'CZ', 'DE', 'DK', 'DO', 'EC', 'EE', 'ES', 'FI', 'FR', 'GB', 'GR', 'GT', 'HK', 'HN', 'HU', 'ID', 'IE', 'IL', 'IS', 'IT', 'JP', 'LI', 'LT', 'LU', 'LV', 'MC', 'MT', 'MX', 'MY', 'NI', 'NL', 'NO', 'NZ', 'PA', 'PE', 'PH', 'PL', 'PT', 'PY', 'RO', 'SE', 'SG', 'SK', 'SV', 'TH', 'TR', 'TW', 'US', 'UY', 'VN', 'ZA'], 'disc_number': 1, 'duration_ms': 247160, 'explicit': False, 'external_ids': {'isrc': 'USQX91700278'}, 'external_urls': {'spotify': 'https://open.spotify.com/track/6RUKPb4LETWmmr3iAEQktW'}, 'href': 'https://api.spotify.com/v1/tracks/6RUKPb4LETWmmr3iAEQktW', 'id': '6RUKPb4LETWmmr3iAEQktW', 'is_local': False, 'name': 'Something Just Like This', 'popularity': 84, 'preview_url': 'https://p.scdn.co/mp3-preview/cb1ae1f9e2f874dd2d19e4c29edb552777eb1e7a?cid=f9e7bf70628e48acb0ae0878c7e28189', 'track_number': 5, 'type': 'track', 'uri': 'spotify:track:6RUKPb4LETWmmr3iAEQktW'}, {'album': {'album_type': 'album', 'artists': [{'external_urls': {'spotify': 'https://open.spotify.com/artist/4gzpq5DPGxSnKTe4SA8HAU'}, 'href': 'https://api.spotify.com/v1/artists/4gzpq5DPGxSnKTe4SA8HAU', 'id': '4gzpq5DPGxSnKTe4SA8HAU', 'name': 'Coldplay', 'type': 'artist', 'uri': 'spotify:artist:4gzpq5DPGxSnKTe4SA8HAU'}], 'available_markets': ['AD', 'AR', 'AT', 'AU', 'BE', 'BG', 'BO', 'BR', 'CA', 'CH', 'CL', 'CO', 'CR', 'CY', 'CZ', 'DE', 'DK', 'DO', 'EC', 'EE', 'ES', 'FI', 'FR', 'GB', 'GR', 'GT', 'HK', 'HN', 'HU', 'ID', 'IE', 'IL', 'IS', 'IT', 'LI', 'LT', 'LU', 'LV', 'MC', 'MT', 'MX', 'MY', 'NI', 'NL', 'NO', 'NZ', 'PA', 'PE', 'PH', 'PL', 'PT', 'PY', 'RO', 'SE', 'SG', 'SK', 'SV', 'TH', 'TR', 'TW', 'US', 'UY', 'VN', 'ZA'], 'external_urls': {'spotify': 'https://open.spotify.com/album/2R7iJz5uaHjLEVnMkloO18'}, 'href': 'https://api.spotify.com/v1/albums/2R7iJz5uaHjLEVnMkloO18', 'id': '2R7iJz5uaHjLEVnMkloO18', 'images': [{'height': 640, 'url': 'https://i.scdn.co/image/e7a649b3890dc849e0f1597d6d12b4342e03ce5f', 'width': 640}, {'height': 300, 'url': 'https://i.scdn.co/image/12cafa9559dc01eb0591a3cc2f526e7ed149d799', 'width': 300}, {'height': 64, 'url': 'https://i.scdn.co/image/e187825d45a19dbf71320595318d2f057aa9b9df', 'width': 64}], 'name': 'Mylo Xyloto', 'release_date': '2011-10-24', 'release_date_precision': 'day', 'type': 'album', 'uri': 'spotify:album:2R7iJz5uaHjLEVnMkloO18'}, 'artists': [{'external_urls': {'spotify': 'https://open.spotify.com/artist/4gzpq5DPGxSnKTe4SA8HAU'}, 'href': 'https://api.spotify.com/v1/artists/4gzpq5DPGxSnKTe4SA8HAU', 'id': '4gzpq5DPGxSnKTe4SA8HAU', 'name': 'Coldplay', 'type': 'artist', 'uri': 'spotify:artist:4gzpq5DPGxSnKTe4SA8HAU'}], 'available_markets': ['AD', 'AR', 'AT', 'AU', 'BE', 'BG', 'BO', 'BR', 'CA', 'CH', 'CL', 'CO', 'CR', 'CY', 'CZ', 'DE', 'DK', 'DO', 'EC', 'EE', 'ES', 'FI', 'FR', 'GB', 'GR', 'GT', 'HK', 'HN', 'HU', 'ID', 'IE', 'IL', 'IS', 'IT', 'LI', 'LT', 'LU', 'LV', 'MC', 'MT', 'MX', 'MY', 'NI', 'NL', 'NO', 'NZ', 'PA', 'PE', 'PH', 'PL', 'PT', 'PY', 'RO', 'SE', 'SG', 'SK', 'SV', 'TH', 'TR', 'TW', 'US', 'UY', 'VN', 'ZA'], 'disc_number': 1, 'duration_ms': 278719, 'explicit': False, 'external_ids': {'isrc': 'GBAYE1101143'}, 'external_urls': {'spotify': 'https://open.spotify.com/track/6nek1Nin9q48AVZcWs9e9D'}, 'href': 'https://api.spotify.com/v1/tracks/6nek1Nin9q48AVZcWs9e9D', 'id': '6nek1Nin9q48AVZcWs9e9D', 'is_local': False, 'name': 'Paradise', 'popularity': 78, 'preview_url': 'https://p.scdn.co/mp3-preview/99475c9d11e4df26ca9d1460fbe0654e687d79e0?cid=f9e7bf70628e48acb0ae0878c7e28189', 'track_number': 3, 'type': 'track', 'uri': 'spotify:track:6nek1Nin9q48AVZcWs9e9D'}, {'album': {'album_type': 'album', 'artists': [{'external_urls': {'spotify': 'https://open.spotify.com/artist/4gzpq5DPGxSnKTe4SA8HAU'}, 'href': 'https://api.spotify.com/v1/artists/4gzpq5DPGxSnKTe4SA8HAU', 'id': '4gzpq5DPGxSnKTe4SA8HAU', 'name': 'Coldplay', 'type': 'artist', 'uri': 'spotify:artist:4gzpq5DPGxSnKTe4SA8HAU'}], 'available_markets': ['AD', 'AR', 'AT', 'AU', 'BE', 'BG', 'BO', 'BR', 'CA', 'CH', 'CL', 'CO', 'CR', 'CY', 'CZ', 'DE', 'DK', 'DO', 'EC', 'EE', 'ES', 'FI', 'FR', 'GB', 'GR', 'GT', 'HK', 'HN', 'HU', 'ID', 'IE', 'IL', 'IS', 'IT', 'JP', 'LI', 'LT', 'LU', 'LV', 'MC', 'MT', 'MX', 'MY', 'NI', 'NL', 'NO', 'NZ', 'PA', 'PE', 'PH', 'PL', 'PT', 'PY', 'RO', 'SE', 'SG', 'SK', 'SV', 'TH', 'TR', 'TW', 'US', 'UY', 'VN', 'ZA'], 'external_urls': {'spotify': 'https://open.spotify.com/album/2G4AUqfwxcV1UdQjm2ouYr'}, 'href': 'https://api.spotify.com/v1/albums/2G4AUqfwxcV1UdQjm2ouYr', 'id': '2G4AUqfwxcV1UdQjm2ouYr', 'images': [{'height': 640, 'url': 'https://i.scdn.co/image/6218fc701d5c6e66c200f29b57fc4cd5f979313f', 'width': 640}, {'height': 300, 'url': 'https://i.scdn.co/image/29ce98b4349b72c2778d2f82823159b06f98f8bc', 'width': 300}, {'height': 64, 'url': 'https://i.scdn.co/image/4af48c1b31d3e2a2f6304226bb2e258e38541dbb', 'width': 64}], 'name': 'Ghost Stories', 'release_date': '2014-05-19', 'release_date_precision': 'day', 'type': 'album', 'uri': 'spotify:album:2G4AUqfwxcV1UdQjm2ouYr'}, 'artists': [{'external_urls': {'spotify': 'https://open.spotify.com/artist/4gzpq5DPGxSnKTe4SA8HAU'}, 'href': 'https://api.spotify.com/v1/artists/4gzpq5DPGxSnKTe4SA8HAU', 'id': '4gzpq5DPGxSnKTe4SA8HAU', 'name': 'Coldplay', 'type': 'artist', 'uri': 'spotify:artist:4gzpq5DPGxSnKTe4SA8HAU'}], 'available_markets': ['AD', 'AR', 'AT', 'AU', 'BE', 'BG', 'BO', 'BR', 'CA', 'CH', 'CL', 'CO', 'CR', 'CY', 'CZ', 'DE', 'DK', 'DO', 'EC', 'EE', 'ES', 'FI', 'FR', 'GB', 'GR', 'GT', 'HK', 'HN', 'HU', 'ID', 'IE', 'IL', 'IS', 'IT', 'JP', 'LI', 'LT', 'LU', 'LV', 'MC', 'MT', 'MX', 'MY', 'NI', 'NL', 'NO', 'NZ', 'PA', 'PE', 'PH', 'PL', 'PT', 'PY', 'RO', 'SE', 'SG', 'SK', 'SV', 'TH', 'TR', 'TW', 'US', 'UY', 'VN', 'ZA'], 'disc_number': 1, 'duration_ms': 268466, 'explicit': False, 'external_ids': {'isrc': 'GBAYE1400217'}, 'external_urls': {'spotify': 'https://open.spotify.com/track/0FDzzruyVECATHXKHFs9eJ'}, 'href': 'https://api.spotify.com/v1/tracks/0FDzzruyVECATHXKHFs9eJ', 'id': '0FDzzruyVECATHXKHFs9eJ', 'is_local': False, 'name': 'A Sky Full of Stars', 'popularity': 77, 'preview_url': 'https://p.scdn.co/mp3-preview/dca7402083b8dbf0e2a5e91f49eb76bde94cd493?cid=f9e7bf70628e48acb0ae0878c7e28189', 'track_number': 8, 'type': 'track', 'uri': 'spotify:track:0FDzzruyVECATHXKHFs9eJ'}, {'album': {'album_type': 'album', 'artists': [{'external_urls': {'spotify': 'https://open.spotify.com/artist/4gzpq5DPGxSnKTe4SA8HAU'}, 'href': 'https://api.spotify.com/v1/artists/4gzpq5DPGxSnKTe4SA8HAU', 'id': '4gzpq5DPGxSnKTe4SA8HAU', 'name': 'Coldplay', 'type': 'artist', 'uri': 'spotify:artist:4gzpq5DPGxSnKTe4SA8HAU'}], 'available_markets': ['AD', 'AR', 'AT', 'AU', 'BE', 'BG', 'BO', 'BR', 'CA', 'CH', 'CL', 'CO', 'CR', 'CY', 'CZ', 'DE', 'DK', 'DO', 'EC', 'EE', 'ES', 'FI', 'FR', 'GB', 'GR', 'GT', 'HK', 'HN', 'HU', 'ID', 'IE', 'IL', 'IS', 'IT', 'JP', 'LI', 'LT', 'LU', 'LV', 'MC', 'MT', 'MX', 'MY', 'NI', 'NL', 'NO', 'NZ', 'PA', 'PE', 'PH', 'PL', 'PT', 'PY', 'RO', 'SE', 'SG', 'SK', 'SV', 'TH', 'TR', 'TW', 'US', 'UY', 'VN', 'ZA'], 'external_urls': {'spotify': 'https://open.spotify.com/album/3cfAM8b8KqJRoIzt3zLKqw'}, 'href': 'https://api.spotify.com/v1/albums/3cfAM8b8KqJRoIzt3zLKqw', 'id': '3cfAM8b8KqJRoIzt3zLKqw', 'images': [{'height': 640, 'url': 'https://i.scdn.co/image/9c2c4a9ac9726bfd996ff96383178bbb5efc59ab', 'width': 640}, {'height': 300, 'url': 'https://i.scdn.co/image/2f66abbf986dcc2fb1dca9bceb892123d5d10c3a', 'width': 300}, {'height': 64, 'url': 'https://i.scdn.co/image/8a87ac474db652dd6cd9fb208be0f37a4ea9c36b', 'width': 64}], 'name': 'A Head Full Of Dreams', 'release_date': '2015-12-04', 'release_date_precision': 'day', 'type': 'album', 'uri': 'spotify:album:3cfAM8b8KqJRoIzt3zLKqw'}, 'artists': [{'external_urls': {'spotify': 'https://open.spotify.com/artist/4gzpq5DPGxSnKTe4SA8HAU'}, 'href': 'https://api.spotify.com/v1/artists/4gzpq5DPGxSnKTe4SA8HAU', 'id': '4gzpq5DPGxSnKTe4SA8HAU', 'name': 'Coldplay', 'type': 'artist', 'uri': 'spotify:artist:4gzpq5DPGxSnKTe4SA8HAU'}], 'available_markets': ['AD', 'AR', 'AT', 'AU', 'BE', 'BG', 'BO', 'BR', 'CA', 'CH', 'CL', 'CO', 'CR', 'CY', 'CZ', 'DE', 'DK', 'DO', 'EC', 'EE', 'ES', 'FI', 'FR', 'GB', 'GR', 'GT', 'HK', 'HN', 'HU', 'ID', 'IE', 'IL', 'IS', 'IT', 'JP', 'LI', 'LT', 'LU', 'LV', 'MC', 'MT', 'MX', 'MY', 'NI', 'NL', 'NO', 'NZ', 'PA', 'PE', 'PH', 'PL', 'PT', 'PY', 'RO', 'SE', 'SG', 'SK', 'SV', 'TH', 'TR', 'TW', 'US', 'UY', 'VN', 'ZA'], 'disc_number': 1, 'duration_ms': 258826, 'explicit': False, 'external_ids': {'isrc': 'GBAYE1500979'}, 'external_urls': {'spotify': 'https://open.spotify.com/track/3RiPr603aXAoi4GHyXx0uy'}, 'href': 'https://api.spotify.com/v1/tracks/3RiPr603aXAoi4GHyXx0uy', 'id': '3RiPr603aXAoi4GHyXx0uy', 'is_local': False, 'name': 'Hymn For The Weekend', 'popularity': 79, 'preview_url': 'https://p.scdn.co/mp3-preview/0e36103f9c968a7f07d502003a109c314f36ae9c?cid=f9e7bf70628e48acb0ae0878c7e28189', 'track_number': 3, 'type': 'track', 'uri': 'spotify:track:3RiPr603aXAoi4GHyXx0uy'}, {'album': {'album_type': 'single', 'artists': [{'external_urls': {'spotify': 'https://open.spotify.com/artist/4gzpq5DPGxSnKTe4SA8HAU'}, 'href': 'https://api.spotify.com/v1/artists/4gzpq5DPGxSnKTe4SA8HAU', 'id': '4gzpq5DPGxSnKTe4SA8HAU', 'name': 'Coldplay', 'type': 'artist', 'uri': 'spotify:artist:4gzpq5DPGxSnKTe4SA8HAU'}, {'external_urls': {'spotify': 'https://open.spotify.com/artist/5iNrZmtVMtYev5M9yoWpEq'}, 'href': 'https://api.spotify.com/v1/artists/5iNrZmtVMtYev5M9yoWpEq', 'id': '5iNrZmtVMtYev5M9yoWpEq', 'name': 'Seeb', 'type': 'artist', 'uri': 'spotify:artist:5iNrZmtVMtYev5M9yoWpEq'}], 'available_markets': ['AD', 'AR', 'AT', 'AU', 'BE', 'BG', 'BO', 'BR', 'CA', 'CH', 'CL', 'CO', 'CR', 'CY', 'CZ', 'DE', 'DK', 'DO', 'EC', 'EE', 'ES', 'FI', 'FR', 'GB', 'GR', 'GT', 'HK', 'HN', 'HU', 'ID', 'IE', 'IL', 'IS', 'IT', 'JP', 'LI', 'LT', 'LU', 'LV', 'MC', 'MT', 'MX', 'MY', 'NI', 'NL', 'NO', 'NZ', 'PA', 'PE', 'PH', 'PL', 'PT', 'PY', 'RO', 'SE', 'SG', 'SK', 'SV', 'TH', 'TR', 'TW', 'US', 'UY', 'VN', 'ZA'], 'external_urls': {'spotify': 'https://open.spotify.com/album/0ezwRysfWCrR5tDgpBwkIw'}, 'href': 'https://api.spotify.com/v1/albums/0ezwRysfWCrR5tDgpBwkIw', 'id': '0ezwRysfWCrR5tDgpBwkIw', 'images': [{'height': 640, 'url': 'https://i.scdn.co/image/595846b1b208b9edfb91ee79b5b886456856da9f', 'width': 640}, {'height': 300, 'url': 'https://i.scdn.co/image/28758cd0b38df6a489937231bc30bcbdd309a755', 'width': 300}, {'height': 64, 'url': 'https://i.scdn.co/image/6196f528b365e8ef504fd0706fb7e87adecfe647', 'width': 64}], 'name': 'Hymn For The Weekend (Seeb Remix)', 'release_date': '2016-03-25', 'release_date_precision': 'day', 'type': 'album', 'uri': 'spotify:album:0ezwRysfWCrR5tDgpBwkIw'}, 'artists': [{'external_urls': {'spotify': 'https://open.spotify.com/artist/4gzpq5DPGxSnKTe4SA8HAU'}, 'href': 'https://api.spotify.com/v1/artists/4gzpq5DPGxSnKTe4SA8HAU', 'id': '4gzpq5DPGxSnKTe4SA8HAU', 'name': 'Coldplay', 'type': 'artist', 'uri': 'spotify:artist:4gzpq5DPGxSnKTe4SA8HAU'}, {'external_urls': {'spotify': 'https://open.spotify.com/artist/5iNrZmtVMtYev5M9yoWpEq'}, 'href': 'https://api.spotify.com/v1/artists/5iNrZmtVMtYev5M9yoWpEq', 'id': '5iNrZmtVMtYev5M9yoWpEq', 'name': 'Seeb', 'type': 'artist', 'uri': 'spotify:artist:5iNrZmtVMtYev5M9yoWpEq'}], 'available_markets': ['AD', 'AR', 'AT', 'AU', 'BE', 'BG', 'BO', 'BR', 'CA', 'CH', 'CL', 'CO', 'CR', 'CY', 'CZ', 'DE', 'DK', 'DO', 'EC', 'EE', 'ES', 'FI', 'FR', 'GB', 'GR', 'GT', 'HK', 'HN', 'HU', 'ID', 'IE', 'IL', 'IS', 'IT', 'JP', 'LI', 'LT', 'LU', 'LV', 'MC', 'MT', 'MX', 'MY', 'NI', 'NL', 'NO', 'NZ', 'PA', 'PE', 'PH', 'PL', 'PT', 'PY', 'RO', 'SE', 'SG', 'SK', 'SV', 'TH', 'TR', 'TW', 'US', 'UY', 'VN', 'ZA'], 'disc_number': 1, 'duration_ms': 212647, 'explicit': False, 'external_ids': {'isrc': 'GBAYE1600763'}, 'external_urls': {'spotify': 'https://open.spotify.com/track/6s3GEN8wK0OMzzzZbXj0fu'}, 'href': 'https://api.spotify.com/v1/tracks/6s3GEN8wK0OMzzzZbXj0fu', 'id': '6s3GEN8wK0OMzzzZbXj0fu', 'is_local': False, 'name': 'Hymn For The Weekend - Seeb Remix', 'popularity': 78, 'preview_url': 'https://p.scdn.co/mp3-preview/d36ebf2b3d829b008bfea00bca48536fa510b6f0?cid=f9e7bf70628e48acb0ae0878c7e28189', 'track_number': 1, 'type': 'track', 'uri': 'spotify:track:6s3GEN8wK0OMzzzZbXj0fu'}, {'album': {'album_type': 'album', 'artists': [{'external_urls': {'spotify': 'https://open.spotify.com/artist/4gzpq5DPGxSnKTe4SA8HAU'}, 'href': 'https://api.spotify.com/v1/artists/4gzpq5DPGxSnKTe4SA8HAU', 'id': '4gzpq5DPGxSnKTe4SA8HAU', 'name': 'Coldplay', 'type': 'artist', 'uri': 'spotify:artist:4gzpq5DPGxSnKTe4SA8HAU'}], 'available_markets': ['AD', 'AR', 'AT', 'AU', 'BE', 'BG', 'BO', 'BR', 'CA', 'CH', 'CL', 'CO', 'CR', 'CY', 'CZ', 'DE', 'DK', 'DO', 'EC', 'EE', 'ES', 'FI', 'FR', 'GB', 'GR', 'GT', 'HK', 'HN', 'HU', 'ID', 'IE', 'IL', 'IS', 'IT', 'JP', 'LI', 'LT', 'LU', 'LV', 'MC', 'MT', 'MX', 'MY', 'NI', 'NL', 'NO', 'NZ', 'PA', 'PE', 'PH', 'PL', 'PT', 'PY', 'RO', 'SE', 'SG', 'SK', 'SV', 'TH', 'TR', 'TW', 'US', 'UY', 'VN', 'ZA'], 'external_urls': {'spotify': 'https://open.spotify.com/album/3cfAM8b8KqJRoIzt3zLKqw'}, 'href': 'https://api.spotify.com/v1/albums/3cfAM8b8KqJRoIzt3zLKqw', 'id': '3cfAM8b8KqJRoIzt3zLKqw', 'images': [{'height': 640, 'url': 'https://i.scdn.co/image/9c2c4a9ac9726bfd996ff96383178bbb5efc59ab', 'width': 640}, {'height': 300, 'url': 'https://i.scdn.co/image/2f66abbf986dcc2fb1dca9bceb892123d5d10c3a', 'width': 300}, {'height': 64, 'url': 'https://i.scdn.co/image/8a87ac474db652dd6cd9fb208be0f37a4ea9c36b', 'width': 64}], 'name': 'A Head Full Of Dreams', 'release_date': '2015-12-04', 'release_date_precision': 'day', 'type': 'album', 'uri': 'spotify:album:3cfAM8b8KqJRoIzt3zLKqw'}, 'artists': [{'external_urls': {'spotify': 'https://open.spotify.com/artist/4gzpq5DPGxSnKTe4SA8HAU'}, 'href': 'https://api.spotify.com/v1/artists/4gzpq5DPGxSnKTe4SA8HAU', 'id': '4gzpq5DPGxSnKTe4SA8HAU', 'name': 'Coldplay', 'type': 'artist', 'uri': 'spotify:artist:4gzpq5DPGxSnKTe4SA8HAU'}], 'available_markets': ['AD', 'AR', 'AT', 'AU', 'BE', 'BG', 'BO', 'BR', 'CA', 'CH', 'CL', 'CO', 'CR', 'CY', 'CZ', 'DE', 'DK', 'DO', 'EC', 'EE', 'ES', 'FI', 'FR', 'GB', 'GR', 'GT', 'HK', 'HN', 'HU', 'ID', 'IE', 'IL', 'IS', 'IT', 'JP', 'LI', 'LT', 'LU', 'LV', 'MC', 'MT', 'MX', 'MY', 'NI', 'NL', 'NO', 'NZ', 'PA', 'PE', 'PH', 'PL', 'PT', 'PY', 'RO', 'SE', 'SG', 'SK', 'SV', 'TH', 'TR', 'TW', 'US', 'UY', 'VN', 'ZA'], 'disc_number': 1, 'duration_ms': 263786, 'explicit': False, 'external_ids': {'isrc': 'GBAYE1500981'}, 'external_urls': {'spotify': 'https://open.spotify.com/track/69uxyAqqPIsUyTO8txoP2M'}, 'href': 'https://api.spotify.com/v1/tracks/69uxyAqqPIsUyTO8txoP2M', 'id': '69uxyAqqPIsUyTO8txoP2M', 'is_local': False, 'name': 'Adventure Of A Lifetime', 'popularity': 77, 'preview_url': 'https://p.scdn.co/mp3-preview/f5c8203c517a906dd581e0faeca84d1e0206c8b6?cid=f9e7bf70628e48acb0ae0878c7e28189', 'track_number': 5, 'type': 'track', 'uri': 'spotify:track:69uxyAqqPIsUyTO8txoP2M'}], 'limit': 10, 'next': 'https://api.spotify.com/v1/search?query=Coldplay&type=track&offset=10&limit=10', 'offset': 0, 'previous': None, 'total': 4842}}\n"
     ]
    }
   ],
   "source": [
    "#for artist\n",
    "import spotipy\n",
    "from spotipy.oauth2 import SpotifyClientCredentials\n",
    "\n",
    "# Make your own Spotify app at https://beta.developer.spotify.com/dashboard/applications\n",
    "client_id = 'f9e7bf70628e48acb0ae0878c7e28189'\n",
    "client_secret = '6dbea35c563749039101f428b08a8437'\n",
    "#title = 'Clocks'\n",
    "artist = 'Coldplay'\n",
    "\n",
    "client_credentials_manager = SpotifyClientCredentials(client_id=client_id, client_secret=client_secret)\n",
    "sp = spotipy.Spotify(client_credentials_manager=client_credentials_manager)\n",
    "sp.trace=False\n",
    "search_querry = artist\n",
    "result = sp.search(search_querry)\n",
    "for i in result['tracks']['items']:\n",
    "    # Find a songh that matches title and artist\n",
    "    if (i['artists'][0]['name'] == artist):\n",
    "        print (i['artists'][0]['uri'])\n",
    "        break\n",
    "else:\n",
    "    try:\n",
    "        # Just take the first song returned by the search (might be named differently)\n",
    "        print (result['tracks']['items'][0]['uri'])\n",
    "    except:\n",
    "        # No results for artist and title\n",
    "        print (\"Cannot Find URI\")\n",
    "        \n",
    "print(i['artists'][0]['name']) \n",
    "print(result)"
   ]
  },
  {
   "cell_type": "code",
   "execution_count": 123,
   "metadata": {},
   "outputs": [
    {
     "name": "stdout",
     "output_type": "stream",
     "text": [
      "[{'danceability': 0.577, 'energy': 0.749, 'key': 5, 'loudness': -7.215, 'mode': 0, 'speechiness': 0.0279, 'acousticness': 0.599, 'instrumentalness': 0.0112, 'liveness': 0.183, 'valence': 0.261, 'tempo': 130.969, 'type': 'audio_features', 'id': '0BCPKOYdS2jbQ8iyB56Zns', 'uri': 'spotify:track:0BCPKOYdS2jbQ8iyB56Zns', 'track_href': 'https://api.spotify.com/v1/tracks/0BCPKOYdS2jbQ8iyB56Zns', 'analysis_url': 'https://api.spotify.com/v1/audio-analysis/0BCPKOYdS2jbQ8iyB56Zns', 'duration_ms': 307880, 'time_signature': 4}]\n",
      "Key: 5\n",
      "Mode: 0\n",
      "Tempo: 130.969\n",
      "Duration: 307880\n",
      "TimeSig: 4\n",
      "Danceability: 0.577\n",
      "Energy: 0.749\n",
      "Valence: 0.261\n",
      "Acousticness: 0.599\n"
     ]
    }
   ],
   "source": [
    "import spotipy\n",
    "from spotipy.oauth2 import SpotifyClientCredentials\n",
    "\n",
    "# Make your own Spotify app at https://beta.developer.spotify.com/dashboard/applications\n",
    "client_id = 'f9e7bf70628e48acb0ae0878c7e28189'\n",
    "client_secret = '6dbea35c563749039101f428b08a8437'\n",
    "uri = 'spotify:track:0BCPKOYdS2jbQ8iyB56Zns'\n",
    "\n",
    "client_credentials_manager = SpotifyClientCredentials(client_id=client_id, client_secret=client_secret)\n",
    "sp = spotipy.Spotify(client_credentials_manager=client_credentials_manager)\n",
    "sp.trace=False\n",
    "features = sp.audio_features(uri)\n",
    "print(features)\n",
    "print ('Key:', features[0]['key'])\n",
    "print ('Mode:', features[0]['mode'])\n",
    "print ('Tempo:', features[0]['tempo'])\n",
    "print ('Duration:', features[0]['duration_ms'])\n",
    "print ('TimeSig:', features[0]['time_signature'])\n",
    "print ('Danceability:', features[0]['danceability'])\n",
    "print ('Energy:', features[0]['energy'])\n",
    "print ('Valence:', features[0]['valence'])\n",
    "print ('Acousticness:', features[0]['acousticness'])\n"
   ]
  },
  {
   "cell_type": "code",
   "execution_count": 118,
   "metadata": {},
   "outputs": [
    {
     "name": "stdout",
     "output_type": "stream",
     "text": [
      "Name: Coldplay\n",
      "Followers: 13413061\n",
      "Genres: ['permanent wave', 'pop']\n",
      "Popularity: 84\n"
     ]
    }
   ],
   "source": [
    "import spotipy\n",
    "from spotipy.oauth2 import SpotifyClientCredentials\n",
    "\n",
    "# Make your own Spotify app at https://beta.developer.spotify.com/dashboard/applications\n",
    "client_id = 'f9e7bf70628e48acb0ae0878c7e28189'\n",
    "client_secret = '6dbea35c563749039101f428b08a8437'\n",
    "uri = 'spotify:artist:4gzpq5DPGxSnKTe4SA8HAU'\n",
    "      #'spotify:track:0BCPKOYdS2jbQ8iyB56Zns'\n",
    "\n",
    "\n",
    "client_credentials_manager = SpotifyClientCredentials(client_id=client_id, client_secret=client_secret)\n",
    "sp = spotipy.Spotify(client_credentials_manager=client_credentials_manager)\n",
    "sp.trace=False\n",
    "features = sp.artist(uri)\n",
    "print ('Name:', features['name'])\n",
    "print ('Followers:', features['followers']['total'])\n",
    "print ('Genres:', features['genres'])\n",
    "print ('Popularity:', features['popularity'])"
   ]
  },
  {
   "cell_type": "code",
   "execution_count": null,
   "metadata": {},
   "outputs": [],
   "source": []
  }
 ],
 "metadata": {
  "kernelspec": {
   "display_name": "Python 3",
   "language": "python",
   "name": "python3"
  },
  "language_info": {
   "codemirror_mode": {
    "name": "ipython",
    "version": 3
   },
   "file_extension": ".py",
   "mimetype": "text/x-python",
   "name": "python",
   "nbconvert_exporter": "python",
   "pygments_lexer": "ipython3",
   "version": "3.6.1"
  }
 },
 "nbformat": 4,
 "nbformat_minor": 2
}
