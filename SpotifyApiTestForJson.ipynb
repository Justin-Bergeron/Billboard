{
 "cells": [
  {
   "cell_type": "code",
   "execution_count": 9,
   "metadata": {},
   "outputs": [
    {
     "name": "stdout",
     "output_type": "stream",
     "text": [
      "{'Post Malone Featuring 21 Savage': 'Rockstar', 'Cardi B': 'Bodak Yellow (Money Moves)', 'Logic Featuring Alessia Cara & Khalid': '1-800-273-8255', 'Portugal. The Man': 'Feel It Still', 'Imagine Dragons': 'Thunder', 'J Balvin & Willy William Featuring Beyonce': 'Mi Gente', 'Demi Lovato': 'Sorry Not Sorry', 'Sam Smith': 'Too Good At Goodbyes', 'French Montana Featuring Swae Lee': 'Unforgettable'}\n",
      "Post Malone Featuring 21 Savage Rockstar\n",
      "Cardi B Bodak Yellow (Money Moves)\n",
      "Logic Featuring Alessia Cara & Khalid 1-800-273-8255\n",
      "Portugal. The Man Feel It Still\n",
      "Imagine Dragons Thunder\n",
      "J Balvin & Willy William Featuring Beyonce Mi Gente\n",
      "Demi Lovato Sorry Not Sorry\n",
      "Sam Smith Too Good At Goodbyes\n",
      "French Montana Featuring Swae Lee Unforgettable\n"
     ]
    }
   ],
   "source": [
    "import json\n",
    "from pprint import pprint\n",
    "\n",
    "with open('billboard[3000:3041].json') as f:\n",
    "    data = json.load(f)\n",
    "\n",
    "artist_list = []    \n",
    "song_list = []  \n",
    "\n",
    "\n",
    "i = 1    \n",
    "while i < 2:\n",
    "    j = 1\n",
    "    while j < 10:\n",
    "        artist = data[i]['0'][j][\"Artist\"]\n",
    "        song =  data[i]['0'][j][\"Song\"]\n",
    "        j += 1\n",
    "        artist_list.append(artist)\n",
    "        song_list.append(song)\n",
    "    i += 1\n",
    "\n",
    "dick = dict(zip(artist_list, song_list))\n",
    "\n",
    "print(dick)\n",
    "for k,v in dick.items():\n",
    "    print(k,v)\n",
    "\n",
    "#http://nitratine.pythonanywhere.com/blog/finding-emotion-in-music\n"
   ]
  },
  {
   "cell_type": "code",
   "execution_count": 56,
   "metadata": {},
   "outputs": [
    {
     "data": {
      "text/plain": [
       "41"
      ]
     },
     "execution_count": 56,
     "metadata": {},
     "output_type": "execute_result"
    }
   ],
   "source": [
    "len(data)"
   ]
  },
  {
   "cell_type": "code",
   "execution_count": 66,
   "metadata": {},
   "outputs": [
    {
     "data": {
      "text/plain": [
       "'Rockstar'"
      ]
     },
     "execution_count": 66,
     "metadata": {},
     "output_type": "execute_result"
    }
   ],
   "source": [
    "data[0]['0'][1]['Artist']\n",
    "data[0]['0'][1]['Song']"
   ]
  },
  {
   "cell_type": "code",
   "execution_count": 88,
   "metadata": {},
   "outputs": [
    {
     "name": "stdout",
     "output_type": "stream",
     "text": [
      "Rockstar:    Post Malone Featuring 21 Savage\n",
      "Bodak Yellow (Money Moves):    Cardi B\n",
      "1-800-273-8255:    Logic Featuring Alessia Cara & Khalid\n",
      "Look What You Made Me Do:    Taylor Swift\n",
      "Feel It Still:    Portugal. The Man\n",
      "Mi Gente:    J Balvin & Willy William Featuring Beyonce\n",
      "Too Good At Goodbyes:    Sam Smith\n",
      "Thunder:    Imagine Dragons\n",
      "Sorry Not Sorry:    Demi Lovato\n"
     ]
    }
   ],
   "source": [
    "songlist = []\n",
    "x = 0\n",
    "# while x < 42: this is the total amount of files\n",
    "while x < 4:\n",
    "    j = 1\n",
    "    while j < 10:\n",
    "        art = data[x]['0'][j]['Artist']\n",
    "        song = data[x]['0'][j]['Song']\n",
    "        print(song + ':    ' + art)\n",
    "        songlist.append(song + '  ' + art)\n",
    "        j += 1\n",
    "    x += 1"
   ]
  },
  {
   "cell_type": "code",
   "execution_count": 4,
   "metadata": {},
   "outputs": [
    {
     "ename": "JSONDecodeError",
     "evalue": "Expecting value: line 1 column 1 (char 0)",
     "output_type": "error",
     "traceback": [
      "\u001b[0;31m---------------------------------------------------------------------------\u001b[0m",
      "\u001b[0;31mJSONDecodeError\u001b[0m                           Traceback (most recent call last)",
      "\u001b[0;32m<ipython-input-4-4dbc154928fd>\u001b[0m in \u001b[0;36m<module>\u001b[0;34m()\u001b[0m\n\u001b[1;32m      6\u001b[0m \u001b[0;34m\u001b[0m\u001b[0m\n\u001b[1;32m      7\u001b[0m \u001b[0;32mwith\u001b[0m \u001b[0mopen\u001b[0m\u001b[0;34m(\u001b[0m\u001b[0;34m'billboard[3000:3041].json'\u001b[0m\u001b[0;34m)\u001b[0m \u001b[0;32mas\u001b[0m \u001b[0mf\u001b[0m\u001b[0;34m:\u001b[0m\u001b[0;34m\u001b[0m\u001b[0m\n\u001b[0;32m----> 8\u001b[0;31m     \u001b[0mdata\u001b[0m \u001b[0;34m=\u001b[0m \u001b[0mjson\u001b[0m\u001b[0;34m.\u001b[0m\u001b[0mload\u001b[0m\u001b[0;34m(\u001b[0m\u001b[0mf\u001b[0m\u001b[0;34m)\u001b[0m\u001b[0;34m\u001b[0m\u001b[0m\n\u001b[0m\u001b[1;32m      9\u001b[0m \u001b[0;34m\u001b[0m\u001b[0m\n\u001b[1;32m     10\u001b[0m \u001b[0;34m\u001b[0m\u001b[0m\n",
      "\u001b[0;32m/anaconda/lib/python3.6/json/__init__.py\u001b[0m in \u001b[0;36mload\u001b[0;34m(fp, cls, object_hook, parse_float, parse_int, parse_constant, object_pairs_hook, **kw)\u001b[0m\n\u001b[1;32m    297\u001b[0m         \u001b[0mcls\u001b[0m\u001b[0;34m=\u001b[0m\u001b[0mcls\u001b[0m\u001b[0;34m,\u001b[0m \u001b[0mobject_hook\u001b[0m\u001b[0;34m=\u001b[0m\u001b[0mobject_hook\u001b[0m\u001b[0;34m,\u001b[0m\u001b[0;34m\u001b[0m\u001b[0m\n\u001b[1;32m    298\u001b[0m         \u001b[0mparse_float\u001b[0m\u001b[0;34m=\u001b[0m\u001b[0mparse_float\u001b[0m\u001b[0;34m,\u001b[0m \u001b[0mparse_int\u001b[0m\u001b[0;34m=\u001b[0m\u001b[0mparse_int\u001b[0m\u001b[0;34m,\u001b[0m\u001b[0;34m\u001b[0m\u001b[0m\n\u001b[0;32m--> 299\u001b[0;31m         parse_constant=parse_constant, object_pairs_hook=object_pairs_hook, **kw)\n\u001b[0m\u001b[1;32m    300\u001b[0m \u001b[0;34m\u001b[0m\u001b[0m\n\u001b[1;32m    301\u001b[0m \u001b[0;34m\u001b[0m\u001b[0m\n",
      "\u001b[0;32m/anaconda/lib/python3.6/json/__init__.py\u001b[0m in \u001b[0;36mloads\u001b[0;34m(s, encoding, cls, object_hook, parse_float, parse_int, parse_constant, object_pairs_hook, **kw)\u001b[0m\n\u001b[1;32m    352\u001b[0m             \u001b[0mparse_int\u001b[0m \u001b[0;32mis\u001b[0m \u001b[0;32mNone\u001b[0m \u001b[0;32mand\u001b[0m \u001b[0mparse_float\u001b[0m \u001b[0;32mis\u001b[0m \u001b[0;32mNone\u001b[0m \u001b[0;32mand\u001b[0m\u001b[0;34m\u001b[0m\u001b[0m\n\u001b[1;32m    353\u001b[0m             parse_constant is None and object_pairs_hook is None and not kw):\n\u001b[0;32m--> 354\u001b[0;31m         \u001b[0;32mreturn\u001b[0m \u001b[0m_default_decoder\u001b[0m\u001b[0;34m.\u001b[0m\u001b[0mdecode\u001b[0m\u001b[0;34m(\u001b[0m\u001b[0ms\u001b[0m\u001b[0;34m)\u001b[0m\u001b[0;34m\u001b[0m\u001b[0m\n\u001b[0m\u001b[1;32m    355\u001b[0m     \u001b[0;32mif\u001b[0m \u001b[0mcls\u001b[0m \u001b[0;32mis\u001b[0m \u001b[0;32mNone\u001b[0m\u001b[0;34m:\u001b[0m\u001b[0;34m\u001b[0m\u001b[0m\n\u001b[1;32m    356\u001b[0m         \u001b[0mcls\u001b[0m \u001b[0;34m=\u001b[0m \u001b[0mJSONDecoder\u001b[0m\u001b[0;34m\u001b[0m\u001b[0m\n",
      "\u001b[0;32m/anaconda/lib/python3.6/json/decoder.py\u001b[0m in \u001b[0;36mdecode\u001b[0;34m(self, s, _w)\u001b[0m\n\u001b[1;32m    337\u001b[0m \u001b[0;34m\u001b[0m\u001b[0m\n\u001b[1;32m    338\u001b[0m         \"\"\"\n\u001b[0;32m--> 339\u001b[0;31m         \u001b[0mobj\u001b[0m\u001b[0;34m,\u001b[0m \u001b[0mend\u001b[0m \u001b[0;34m=\u001b[0m \u001b[0mself\u001b[0m\u001b[0;34m.\u001b[0m\u001b[0mraw_decode\u001b[0m\u001b[0;34m(\u001b[0m\u001b[0ms\u001b[0m\u001b[0;34m,\u001b[0m \u001b[0midx\u001b[0m\u001b[0;34m=\u001b[0m\u001b[0m_w\u001b[0m\u001b[0;34m(\u001b[0m\u001b[0ms\u001b[0m\u001b[0;34m,\u001b[0m \u001b[0;36m0\u001b[0m\u001b[0;34m)\u001b[0m\u001b[0;34m.\u001b[0m\u001b[0mend\u001b[0m\u001b[0;34m(\u001b[0m\u001b[0;34m)\u001b[0m\u001b[0;34m)\u001b[0m\u001b[0;34m\u001b[0m\u001b[0m\n\u001b[0m\u001b[1;32m    340\u001b[0m         \u001b[0mend\u001b[0m \u001b[0;34m=\u001b[0m \u001b[0m_w\u001b[0m\u001b[0;34m(\u001b[0m\u001b[0ms\u001b[0m\u001b[0;34m,\u001b[0m \u001b[0mend\u001b[0m\u001b[0;34m)\u001b[0m\u001b[0;34m.\u001b[0m\u001b[0mend\u001b[0m\u001b[0;34m(\u001b[0m\u001b[0;34m)\u001b[0m\u001b[0;34m\u001b[0m\u001b[0m\n\u001b[1;32m    341\u001b[0m         \u001b[0;32mif\u001b[0m \u001b[0mend\u001b[0m \u001b[0;34m!=\u001b[0m \u001b[0mlen\u001b[0m\u001b[0;34m(\u001b[0m\u001b[0ms\u001b[0m\u001b[0;34m)\u001b[0m\u001b[0;34m:\u001b[0m\u001b[0;34m\u001b[0m\u001b[0m\n",
      "\u001b[0;32m/anaconda/lib/python3.6/json/decoder.py\u001b[0m in \u001b[0;36mraw_decode\u001b[0;34m(self, s, idx)\u001b[0m\n\u001b[1;32m    355\u001b[0m             \u001b[0mobj\u001b[0m\u001b[0;34m,\u001b[0m \u001b[0mend\u001b[0m \u001b[0;34m=\u001b[0m \u001b[0mself\u001b[0m\u001b[0;34m.\u001b[0m\u001b[0mscan_once\u001b[0m\u001b[0;34m(\u001b[0m\u001b[0ms\u001b[0m\u001b[0;34m,\u001b[0m \u001b[0midx\u001b[0m\u001b[0;34m)\u001b[0m\u001b[0;34m\u001b[0m\u001b[0m\n\u001b[1;32m    356\u001b[0m         \u001b[0;32mexcept\u001b[0m \u001b[0mStopIteration\u001b[0m \u001b[0;32mas\u001b[0m \u001b[0merr\u001b[0m\u001b[0;34m:\u001b[0m\u001b[0;34m\u001b[0m\u001b[0m\n\u001b[0;32m--> 357\u001b[0;31m             \u001b[0;32mraise\u001b[0m \u001b[0mJSONDecodeError\u001b[0m\u001b[0;34m(\u001b[0m\u001b[0;34m\"Expecting value\"\u001b[0m\u001b[0;34m,\u001b[0m \u001b[0ms\u001b[0m\u001b[0;34m,\u001b[0m \u001b[0merr\u001b[0m\u001b[0;34m.\u001b[0m\u001b[0mvalue\u001b[0m\u001b[0;34m)\u001b[0m \u001b[0;32mfrom\u001b[0m \u001b[0;32mNone\u001b[0m\u001b[0;34m\u001b[0m\u001b[0m\n\u001b[0m\u001b[1;32m    358\u001b[0m         \u001b[0;32mreturn\u001b[0m \u001b[0mobj\u001b[0m\u001b[0;34m,\u001b[0m \u001b[0mend\u001b[0m\u001b[0;34m\u001b[0m\u001b[0m\n",
      "\u001b[0;31mJSONDecodeError\u001b[0m: Expecting value: line 1 column 1 (char 0)"
     ]
    }
   ],
   "source": [
    "import json\n",
    "from pprint import pprint\n",
    "import spotipy\n",
    "from spotipy.oauth2 import SpotifyClientCredentials\n",
    "\n",
    "\n",
    "with open('billboard[3000:3041].json') as f:\n",
    "    data = json.load(f)\n",
    "\n",
    "\n",
    "results = []\n",
    "\n",
    "for art, song in dick.items():\n",
    "\n",
    "        # Make your own Spotify app at https://beta.developer.spotify.com/dashboard/applications\n",
    "        client_id = 'f9e7bf70628e48acb0ae0878c7e28189'\n",
    "        client_secret = '6dbea35c563749039101f428b08a8437'\n",
    "        title = song\n",
    "        artist = art\n",
    "\n",
    "        client_credentials_manager = SpotifyClientCredentials(client_id=client_id, client_secret=client_secret)\n",
    "        sp = spotipy.Spotify(client_credentials_manager=client_credentials_manager)\n",
    "        sp.trace=False\n",
    "        search_querry = title + ' ' + artist\n",
    "        result = sp.search(search_querry)\n",
    "        for i in result['tracks']['items']:\n",
    "            # Find a song that matches title and artist\n",
    "            if (i['artists'][0]['name'] == artist) and (i['name'] == title):\n",
    "                track = i['uri']\n",
    "                track_name = i['name']\n",
    "                #print (track)\n",
    "                #print(track_name)\n",
    "                artist = i['artists'][0]['uri']\n",
    "                #print (artist)\n",
    "                break\n",
    "            else:\n",
    "                try:\n",
    "                    # Just take the first song returned by the search (might be named differently)\n",
    "                    #print (result['tracks']['items'][0]['uri'])\n",
    "                    print('try    ' + song)\n",
    "                except:\n",
    "\n",
    "                    # No results for artist and title\n",
    "                    print (\"Cannot Find URI\")\n",
    "                    print('except    + song')\n",
    "\n",
    "\n",
    "\n",
    "\n",
    "\n",
    "        #         # Make your own Spotify app at https://beta.developer.spotify.com/dashboard/applications\n",
    "        #         client_id = 'f9e7bf70628e48acb0ae0878c7e28189'\n",
    "        #         client_secret = '6dbea35c563749039101f428b08a8437'\n",
    "\n",
    "        try:\n",
    "            client_credentials_manager = SpotifyClientCredentials(client_id=client_id, client_secret=client_secret)\n",
    "            sp = spotipy.Spotify(client_credentials_manager=client_credentials_manager)\n",
    "            sp.trace=False\n",
    "            artist_features = sp.artist(artist)\n",
    "            track_features = sp.audio_features(track)\n",
    "\n",
    "\n",
    "            key = ''\n",
    "            numkey = track_features[0]['key']\n",
    "            if numkey == 1:\n",
    "                key = 'C#'\n",
    "            elif numkey == 2: \n",
    "                key = 'D'\n",
    "            elif numkey == 3: \n",
    "                key = 'D#'\n",
    "            elif numkey == 4: \n",
    "                key = 'E'    \n",
    "            elif numkey == 5: \n",
    "                key = 'F'\n",
    "            elif numkey == 6: \n",
    "                key = 'F#'    \n",
    "            elif numkey == 7: \n",
    "                key = 'G'    \n",
    "            elif numkey == 8: \n",
    "                key = 'G#'    \n",
    "            elif numkey == 9: \n",
    "                key = 'A'    \n",
    "            elif numkey == 10: \n",
    "                key = 'A#'\n",
    "            elif numkey == 11: \n",
    "                key = 'B'    \n",
    "            else: \n",
    "                key = 'C'    \n",
    "\n",
    "            numMode = track_features[0]['mode']\n",
    "\n",
    "            mode = 'Major'    \n",
    "            if numMode == 0: \n",
    "                mode = 'Minor'\n",
    "\n",
    "            durMs = track_features[0]['duration_ms']  \n",
    "            length = (durMs/1000)/60\n",
    "\n",
    "\n",
    "            result = [\n",
    "             {'Artist': artist_features['name']},\n",
    "             {'Followers': int(artist_features['followers']['total'])},\n",
    "             {'Genres': artist_features['genres']},\n",
    "             {'Popularity': int(artist_features['popularity'])},\n",
    "             {'Track Name': i['name']},\n",
    "             {'KeySig': (key + ' ' + mode)},\n",
    "             {'Tempo': int(track_features[0]['tempo'])},\n",
    "             {'Length': float(length)},\n",
    "             {'TimeSig': int(track_features[0]['time_signature'])},\n",
    "             {'Danceability': float(track_features[0]['danceability'])},\n",
    "             {'Energy': float(track_features[0]['energy'])},\n",
    "             {'Valence': float(track_features[0]['valence'])},\n",
    "             {'Acousticness': float(track_features[0]['acousticness'])},\n",
    "             {'Key': int(numkey)},\n",
    "             {'Mode': int(track_features[0]['mode'])},\n",
    "             {'Duration(ms)': float(track_features[0]['duration_ms'])}\n",
    "                ]\n",
    "            print(song + '    success')\n",
    "            print(result)\n",
    "            results.append(result)\n",
    "            with open('billboardTest.json', 'a') as outfile:      #'a' so it appends the file\n",
    "                json.dump(result, outfile)\n",
    "            \n",
    "        except Exception:\n",
    "            print(song + '    fail')\n",
    "            pass\n",
    "\n",
    "\n",
    "print('complete')"
   ]
  },
  {
   "cell_type": "code",
   "execution_count": null,
   "metadata": {},
   "outputs": [],
   "source": []
  }
 ],
 "metadata": {
  "kernelspec": {
   "display_name": "Python 3",
   "language": "python",
   "name": "python3"
  },
  "language_info": {
   "codemirror_mode": {
    "name": "ipython",
    "version": 3
   },
   "file_extension": ".py",
   "mimetype": "text/x-python",
   "name": "python",
   "nbconvert_exporter": "python",
   "pygments_lexer": "ipython3",
   "version": "3.6.1"
  }
 },
 "nbformat": 4,
 "nbformat_minor": 2
}
