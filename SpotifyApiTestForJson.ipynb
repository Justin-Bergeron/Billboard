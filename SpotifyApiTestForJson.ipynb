{
 "cells": [
  {
   "cell_type": "code",
   "execution_count": 28,
   "metadata": {},
   "outputs": [
    {
     "name": "stdout",
     "output_type": "stream",
     "text": [
      "{'Post Malone Featuring 21 Savage': 'Rockstar', 'Cardi B': 'Bodak Yellow (Money Moves)', 'Logic Featuring Alessia Cara & Khalid': '1-800-273-8255', 'Portugal. The Man': 'Feel It Still', 'Imagine Dragons': 'Thunder', 'J Balvin & Willy William Featuring Beyonce': 'Mi Gente', 'Demi Lovato': 'Sorry Not Sorry', 'Sam Smith': 'Too Good At Goodbyes', 'French Montana Featuring Swae Lee': 'Unforgettable'}\n",
      "Post Malone Featuring 21 Savage Rockstar\n",
      "Cardi B Bodak Yellow (Money Moves)\n",
      "Logic Featuring Alessia Cara & Khalid 1-800-273-8255\n",
      "Portugal. The Man Feel It Still\n",
      "Imagine Dragons Thunder\n",
      "J Balvin & Willy William Featuring Beyonce Mi Gente\n",
      "Demi Lovato Sorry Not Sorry\n",
      "Sam Smith Too Good At Goodbyes\n",
      "French Montana Featuring Swae Lee Unforgettable\n"
     ]
    }
   ],
   "source": [
    "#http://nitratine.pythonanywhere.com/blog/finding-emotion-in-music\n",
    "\n",
    "import json\n",
    "from pprint import pprint\n",
    "\n",
    "with open('billboard[3000:3041].json') as f:\n",
    "    data = json.load(f)\n",
    "\n",
    "artist_list = []    \n",
    "song_list = []  \n",
    "\n",
    "\n",
    "i = 1    \n",
    "j = 1\n",
    "while i < 2:\n",
    "    while j < 10:\n",
    "        artist = data[i]['0'][j][\"Artist\"]\n",
    "        song =  data[i]['0'][j][\"Song\"]\n",
    "        j += 1\n",
    "        artist_list.append(artist)\n",
    "        song_list.append(song)\n",
    "    i += 1\n",
    "\n",
    "dick = dict(zip(artist_list, song_list))\n",
    "\n",
    "print(dick)\n",
    "for k,v in dick.items():\n",
    "    print(k,v)\n",
    "\n",
    "\n"
   ]
  },
  {
   "cell_type": "code",
   "execution_count": 56,
   "metadata": {},
   "outputs": [
    {
     "data": {
      "text/plain": [
       "41"
      ]
     },
     "execution_count": 56,
     "metadata": {},
     "output_type": "execute_result"
    }
   ],
   "source": [
    "len(data)"
   ]
  },
  {
   "cell_type": "code",
   "execution_count": 66,
   "metadata": {},
   "outputs": [
    {
     "data": {
      "text/plain": [
       "'Rockstar'"
      ]
     },
     "execution_count": 66,
     "metadata": {},
     "output_type": "execute_result"
    }
   ],
   "source": [
    "data[0]['0'][1]['Artist']\n",
    "data[0]['0'][1]['Song']"
   ]
  },
  {
   "cell_type": "code",
   "execution_count": null,
   "metadata": {},
   "outputs": [],
   "source": [
    "x = 0\n",
    "j = 1\n",
    "# while x < 42: this is the total amount of files\n",
    "while x < 3:\n",
    "    while j < 10:\n",
    "        art = data[x]['0'][j]['Artist']\n",
    "        song = data[x]['0'][j]['Song']\n",
    "        print(song + art)\n",
    "        j += 1\n",
    "    x += 1\n",
    "    "
   ]
  },
  {
   "cell_type": "code",
   "execution_count": 44,
   "metadata": {},
   "outputs": [
    {
     "name": "stdout",
     "output_type": "stream",
     "text": [
      "Rockstar    fail\n",
      "try    Bodak Yellow (Money Moves)\n",
      "try    Bodak Yellow (Money Moves)\n",
      "try    Bodak Yellow (Money Moves)\n",
      "try    Bodak Yellow (Money Moves)\n",
      "Bodak Yellow (Money Moves)    fail\n",
      "1-800-273-8255    fail\n",
      "Feel It Still    success\n",
      "[{'Artist': 'Portugal. The Man'}, {'Followers': 753911}, {'Genres': ['modern rock', 'neo-psychedelic']}, {'Popularity': 73}, {'Track Name': 'Feel It Still'}, {'KeySig': 'C# Minor'}, {'Tempo': 79}, {'Length': 2.720883333333333}, {'TimeSig': 4}, {'Danceability': 0.801}, {'Energy': 0.795}, {'Valence': 0.754}, {'Acousticness': 0.0417}, {'Key': 1}, {'Mode': 0}, {'Duration(ms)': 163253.0}]\n",
      "try    Thunder\n",
      "Thunder    success\n",
      "[{'Artist': 'Imagine Dragons'}, {'Followers': 11007267}, {'Genres': ['modern rock', 'vegas indie']}, {'Popularity': 87}, {'Track Name': 'Thunder'}, {'KeySig': 'C Major'}, {'Tempo': 167}, {'Length': 3.1191166666666663}, {'TimeSig': 4}, {'Danceability': 0.605}, {'Energy': 0.822}, {'Valence': 0.288}, {'Acousticness': 0.00671}, {'Key': 0}, {'Mode': 1}, {'Duration(ms)': 187147.0}]\n",
      "Mi Gente    fail\n",
      "Sorry Not Sorry    success\n",
      "[{'Artist': 'Demi Lovato'}, {'Followers': 10024858}, {'Genres': ['dance pop', 'pop', 'post-teen pop']}, {'Popularity': 87}, {'Track Name': 'Sorry Not Sorry'}, {'KeySig': 'B Minor'}, {'Tempo': 144}, {'Length': 3.396}, {'TimeSig': 4}, {'Danceability': 0.702}, {'Energy': 0.635}, {'Valence': 0.873}, {'Acousticness': 0.0223}, {'Key': 11}, {'Mode': 0}, {'Duration(ms)': 203760.0}]\n",
      "Too Good At Goodbyes    success\n",
      "[{'Artist': 'Sam Smith'}, {'Followers': 6242825}, {'Genres': ['pop']}, {'Popularity': 82}, {'Track Name': 'Too Good At Goodbyes'}, {'KeySig': 'F Major'}, {'Tempo': 91}, {'Length': 3.35}, {'TimeSig': 4}, {'Danceability': 0.661}, {'Energy': 0.373}, {'Valence': 0.523}, {'Acousticness': 0.615}, {'Key': 5}, {'Mode': 1}, {'Duration(ms)': 201000.0}]\n",
      "Unforgettable    fail\n"
     ]
    }
   ],
   "source": [
    "\n",
    "import spotipy\n",
    "from spotipy.oauth2 import SpotifyClientCredentials\n",
    "\n",
    "results = []\n",
    "\n",
    "for art, song in dick.items():\n",
    "\n",
    "        # Make your own Spotify app at https://beta.developer.spotify.com/dashboard/applications\n",
    "        client_id = 'f9e7bf70628e48acb0ae0878c7e28189'\n",
    "        client_secret = '6dbea35c563749039101f428b08a8437'\n",
    "        title = song\n",
    "        artist = art\n",
    "\n",
    "        client_credentials_manager = SpotifyClientCredentials(client_id=client_id, client_secret=client_secret)\n",
    "        sp = spotipy.Spotify(client_credentials_manager=client_credentials_manager)\n",
    "        sp.trace=False\n",
    "        search_querry = title + ' ' + artist\n",
    "        result = sp.search(search_querry)\n",
    "        for i in result['tracks']['items']:\n",
    "            # Find a song that matches title and artist\n",
    "            if (i['artists'][0]['name'] == artist) and (i['name'] == title):\n",
    "                track = i['uri']\n",
    "                track_name = i['name']\n",
    "                #print (track)\n",
    "                #print(track_name)\n",
    "                artist = i['artists'][0]['uri']\n",
    "                #print (artist)\n",
    "                break\n",
    "            else:\n",
    "                try:\n",
    "                    # Just take the first song returned by the search (might be named differently)\n",
    "                    #print (result['tracks']['items'][0]['uri'])\n",
    "                    print('try    ' + song)\n",
    "                except:\n",
    "\n",
    "                    # No results for artist and title\n",
    "                    print (\"Cannot Find URI\")\n",
    "                    print('except    + song')\n",
    "\n",
    "\n",
    "\n",
    "\n",
    "\n",
    "        #         # Make your own Spotify app at https://beta.developer.spotify.com/dashboard/applications\n",
    "        #         client_id = 'f9e7bf70628e48acb0ae0878c7e28189'\n",
    "        #         client_secret = '6dbea35c563749039101f428b08a8437'\n",
    "\n",
    "        try:\n",
    "            client_credentials_manager = SpotifyClientCredentials(client_id=client_id, client_secret=client_secret)\n",
    "            sp = spotipy.Spotify(client_credentials_manager=client_credentials_manager)\n",
    "            sp.trace=False\n",
    "            artist_features = sp.artist(artist)\n",
    "            track_features = sp.audio_features(track)\n",
    "\n",
    "\n",
    "            key = ''\n",
    "            numkey = track_features[0]['key']\n",
    "            if numkey == 1:\n",
    "                key = 'C#'\n",
    "            elif numkey == 2: \n",
    "                key = 'D'\n",
    "            elif numkey == 3: \n",
    "                key = 'D#'\n",
    "            elif numkey == 4: \n",
    "                key = 'E'    \n",
    "            elif numkey == 5: \n",
    "                key = 'F'\n",
    "            elif numkey == 6: \n",
    "                key = 'F#'    \n",
    "            elif numkey == 7: \n",
    "                key = 'G'    \n",
    "            elif numkey == 8: \n",
    "                key = 'G#'    \n",
    "            elif numkey == 9: \n",
    "                key = 'A'    \n",
    "            elif numkey == 10: \n",
    "                key = 'A#'\n",
    "            elif numkey == 11: \n",
    "                key = 'B'    \n",
    "            else: \n",
    "                key = 'C'    \n",
    "\n",
    "            numMode = track_features[0]['mode']\n",
    "\n",
    "            mode = 'Major'    \n",
    "            if numMode == 0: \n",
    "                mode = 'Minor'\n",
    "\n",
    "            durMs = track_features[0]['duration_ms']  \n",
    "            length = (durMs/1000)/60\n",
    "\n",
    "\n",
    "            result = [\n",
    "             {'Artist': artist_features['name']},\n",
    "             {'Followers': int(artist_features['followers']['total'])},\n",
    "             {'Genres': artist_features['genres']},\n",
    "             {'Popularity': int(artist_features['popularity'])},\n",
    "             {'Track Name': i['name']},\n",
    "             {'KeySig': (key + ' ' + mode)},\n",
    "             {'Tempo': int(track_features[0]['tempo'])},\n",
    "             {'Length': float(length)},\n",
    "             {'TimeSig': int(track_features[0]['time_signature'])},\n",
    "             {'Danceability': float(track_features[0]['danceability'])},\n",
    "             {'Energy': float(track_features[0]['energy'])},\n",
    "             {'Valence': float(track_features[0]['valence'])},\n",
    "             {'Acousticness': float(track_features[0]['acousticness'])},\n",
    "             {'Key': int(numkey)},\n",
    "             {'Mode': int(track_features[0]['mode'])},\n",
    "             {'Duration(ms)': float(track_features[0]['duration_ms'])}\n",
    "                ]\n",
    "            print(song + '    success')\n",
    "            print(result)\n",
    "            results.append(result)\n",
    "            with open('billboardTest.json', 'a') as outfile:      #'a' so it appends the file\n",
    "                json.dump(result, outfile)\n",
    "            \n",
    "        except Exception:\n",
    "            print(song + '    fail')\n",
    "            pass\n",
    "\n",
    "\n",
    "print('complete')"
   ]
  },
  {
   "cell_type": "code",
   "execution_count": null,
   "metadata": {},
   "outputs": [],
   "source": []
  }
 ],
 "metadata": {
  "kernelspec": {
   "display_name": "Python 3",
   "language": "python",
   "name": "python3"
  },
  "language_info": {
   "codemirror_mode": {
    "name": "ipython",
    "version": 3
   },
   "file_extension": ".py",
   "mimetype": "text/x-python",
   "name": "python",
   "nbconvert_exporter": "python",
   "pygments_lexer": "ipython3",
   "version": "3.6.1"
  }
 },
 "nbformat": 4,
 "nbformat_minor": 2
}
