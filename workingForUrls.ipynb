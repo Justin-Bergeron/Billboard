{
 "cells": [
  {
   "cell_type": "code",
   "execution_count": null,
   "metadata": {},
   "outputs": [],
   "source": [
    "year = []\n"
   ]
  },
  {
   "cell_type": "code",
   "execution_count": 40,
   "metadata": {},
   "outputs": [
    {
     "name": "stdout",
     "output_type": "stream",
     "text": [
      "https://www.billboard.com/archive/charts/1960/hot-100\n",
      "https://www.billboard.com/archive/charts/1961/hot-100\n",
      "['/charts/hot-100/1961-01-02', '/charts/hot-100/1961-01-09', '/charts/hot-100/1961-01-16', '/charts/hot-100/1961-01-23', '/charts/hot-100/1961-01-30', '/charts/hot-100/1961-02-06', '/charts/hot-100/1961-02-13', '/charts/hot-100/1961-02-20', '/charts/hot-100/1961-02-27', '/charts/hot-100/1961-03-06', '/charts/hot-100/1961-03-13', '/charts/hot-100/1961-03-20', '/charts/hot-100/1961-03-27', '/charts/hot-100/1961-04-03', '/charts/hot-100/1961-04-10', '/charts/hot-100/1961-04-17', '/charts/hot-100/1961-04-24', '/charts/hot-100/1961-05-01', '/charts/hot-100/1961-05-08', '/charts/hot-100/1961-05-15', '/charts/hot-100/1961-05-22', '/charts/hot-100/1961-05-29', '/charts/hot-100/1961-06-05', '/charts/hot-100/1961-06-12', '/charts/hot-100/1961-06-19', '/charts/hot-100/1961-06-26', '/charts/hot-100/1961-07-03', '/charts/hot-100/1961-07-10', '/charts/hot-100/1961-07-17', '/charts/hot-100/1961-07-24', '/charts/hot-100/1961-07-31', '/charts/hot-100/1961-08-07', '/charts/hot-100/1961-08-14', '/charts/hot-100/1961-08-21', '/charts/hot-100/1961-08-28', '/charts/hot-100/1961-09-04', '/charts/hot-100/1961-09-11', '/charts/hot-100/1961-09-18', '/charts/hot-100/1961-09-25', '/charts/hot-100/1961-10-02', '/charts/hot-100/1961-10-09', '/charts/hot-100/1961-10-16', '/charts/hot-100/1961-10-23', '/charts/hot-100/1961-10-30', '/charts/hot-100/1961-11-06', '/charts/hot-100/1961-11-13', '/charts/hot-100/1961-11-20', '/charts/hot-100/1961-11-27', '/charts/hot-100/1961-12-04', '/charts/hot-100/1961-12-11', '/charts/hot-100/1961-12-18', '/charts/hot-100/1961-12-25']\n"
     ]
    }
   ],
   "source": [
    "import time\n",
    "from splinter import Browser\n",
    "from bs4 import BeautifulSoup\n",
    "from selenium import webdriver\n",
    "import json\n",
    "from datetime import datetime\n",
    "from contextlib import suppress\n",
    "\n",
    "\n",
    "\n",
    "\n",
    "# Initialize browser\n",
    "def init_browser():\n",
    "    executable_path = {\"executable_path\": \"/usr/local/bin/chromedriver\"}\n",
    "    return Browser(\"chrome\", **executable_path, headless=False)\n",
    "\n",
    "urlList = []\n",
    "\n",
    "browser = init_browser()\n",
    "\n",
    "\n",
    "for y in year:\n",
    "    # Visit billboard site\n",
    "    url = \"https://www.billboard.com/archive/charts/%s/hot-100\" % y\n",
    "    browser.visit(url)\n",
    "    print(url)\n",
    "\n",
    "    \n",
    "    \n",
    "    # Scrape page into soup\n",
    "    html = browser.html\n",
    "    soup = BeautifulSoup(html, 'html.parser')\n",
    "    \n",
    "    table = soup.find('table', class_ = 'archive-table')\n",
    "    url = table.find_all('a', href = True)         #, class_ = 'sl-spot-list__ref'\n",
    "    urlList.extend(url)\n",
    "\n",
    "urlListClean = []\n",
    "\n",
    "\n",
    "# print(urlList)\n",
    "for a in url:\n",
    "    urlListClean.append(a['href'])\n",
    "    \n",
    "print(urlListClean)    \n",
    "with open('URLs.json', 'w') as outfile:\n",
    "      json.dump(urlListClean, outfile)    "
   ]
  },
  {
   "cell_type": "code",
   "execution_count": 11,
   "metadata": {},
   "outputs": [
    {
     "name": "stdout",
     "output_type": "stream",
     "text": [
      "[[<a href=\"/charts/hot-100/1960-01-04\">January 4</a>, <a href=\"/charts/hot-100/1960-01-11\">January 11</a>, <a href=\"/charts/hot-100/1960-01-18\">January 18</a>, <a href=\"/charts/hot-100/1960-01-25\">January 25</a>, <a href=\"/charts/hot-100/1960-02-01\">February 1</a>, <a href=\"/charts/hot-100/1960-02-08\">February 8</a>, <a href=\"/charts/hot-100/1960-02-15\">February 15</a>, <a href=\"/charts/hot-100/1960-02-22\">February 22</a>, <a href=\"/charts/hot-100/1960-02-29\">February 29</a>, <a href=\"/charts/hot-100/1960-03-07\">March 7</a>, <a href=\"/charts/hot-100/1960-03-14\">March 14</a>, <a href=\"/charts/hot-100/1960-03-21\">March 21</a>, <a href=\"/charts/hot-100/1960-03-28\">March 28</a>, <a href=\"/charts/hot-100/1960-04-04\">April 4</a>, <a href=\"/charts/hot-100/1960-04-11\">April 11</a>, <a href=\"/charts/hot-100/1960-04-18\">April 18</a>, <a href=\"/charts/hot-100/1960-04-25\">April 25</a>, <a href=\"/charts/hot-100/1960-05-02\">May 2</a>, <a href=\"/charts/hot-100/1960-05-09\">May 9</a>, <a href=\"/charts/hot-100/1960-05-16\">May 16</a>, <a href=\"/charts/hot-100/1960-05-23\">May 23</a>, <a href=\"/charts/hot-100/1960-05-30\">May 30</a>, <a href=\"/charts/hot-100/1960-06-06\">June 6</a>, <a href=\"/charts/hot-100/1960-06-13\">June 13</a>, <a href=\"/charts/hot-100/1960-06-20\">June 20</a>, <a href=\"/charts/hot-100/1960-06-27\">June 27</a>, <a href=\"/charts/hot-100/1960-07-04\">July 4</a>, <a href=\"/charts/hot-100/1960-07-11\">July 11</a>, <a href=\"/charts/hot-100/1960-07-18\">July 18</a>, <a href=\"/charts/hot-100/1960-07-25\">July 25</a>, <a href=\"/charts/hot-100/1960-08-01\">August 1</a>, <a href=\"/charts/hot-100/1960-08-08\">August 8</a>, <a href=\"/charts/hot-100/1960-08-15\">August 15</a>, <a href=\"/charts/hot-100/1960-08-22\">August 22</a>, <a href=\"/charts/hot-100/1960-08-29\">August 29</a>, <a href=\"/charts/hot-100/1960-09-05\">September 5</a>, <a href=\"/charts/hot-100/1960-09-12\">September 12</a>, <a href=\"/charts/hot-100/1960-09-19\">September 19</a>, <a href=\"/charts/hot-100/1960-09-26\">September 26</a>, <a href=\"/charts/hot-100/1960-10-03\">October 3</a>, <a href=\"/charts/hot-100/1960-10-10\">October 10</a>, <a href=\"/charts/hot-100/1960-10-17\">October 17</a>, <a href=\"/charts/hot-100/1960-10-24\">October 24</a>, <a href=\"/charts/hot-100/1960-10-31\">October 31</a>, <a href=\"/charts/hot-100/1960-11-07\">November 7</a>, <a href=\"/charts/hot-100/1960-11-14\">November 14</a>, <a href=\"/charts/hot-100/1960-11-21\">November 21</a>, <a href=\"/charts/hot-100/1960-11-28\">November 28</a>, <a href=\"/charts/hot-100/1960-12-05\">December 5</a>, <a href=\"/charts/hot-100/1960-12-12\">December 12</a>, <a href=\"/charts/hot-100/1960-12-19\">December 19</a>, <a href=\"/charts/hot-100/1960-12-26\">December 26</a>], '                                          ', [<a href=\"/charts/hot-100/1961-01-02\">January 2</a>, <a href=\"/charts/hot-100/1961-01-09\">January 9</a>, <a href=\"/charts/hot-100/1961-01-16\">January 16</a>, <a href=\"/charts/hot-100/1961-01-23\">January 23</a>, <a href=\"/charts/hot-100/1961-01-30\">January 30</a>, <a href=\"/charts/hot-100/1961-02-06\">February 6</a>, <a href=\"/charts/hot-100/1961-02-13\">February 13</a>, <a href=\"/charts/hot-100/1961-02-20\">February 20</a>, <a href=\"/charts/hot-100/1961-02-27\">February 27</a>, <a href=\"/charts/hot-100/1961-03-06\">March 6</a>, <a href=\"/charts/hot-100/1961-03-13\">March 13</a>, <a href=\"/charts/hot-100/1961-03-20\">March 20</a>, <a href=\"/charts/hot-100/1961-03-27\">March 27</a>, <a href=\"/charts/hot-100/1961-04-03\">April 3</a>, <a href=\"/charts/hot-100/1961-04-10\">April 10</a>, <a href=\"/charts/hot-100/1961-04-17\">April 17</a>, <a href=\"/charts/hot-100/1961-04-24\">April 24</a>, <a href=\"/charts/hot-100/1961-05-01\">May 1</a>, <a href=\"/charts/hot-100/1961-05-08\">May 8</a>, <a href=\"/charts/hot-100/1961-05-15\">May 15</a>, <a href=\"/charts/hot-100/1961-05-22\">May 22</a>, <a href=\"/charts/hot-100/1961-05-29\">May 29</a>, <a href=\"/charts/hot-100/1961-06-05\">June 5</a>, <a href=\"/charts/hot-100/1961-06-12\">June 12</a>, <a href=\"/charts/hot-100/1961-06-19\">June 19</a>, <a href=\"/charts/hot-100/1961-06-26\">June 26</a>, <a href=\"/charts/hot-100/1961-07-03\">July 3</a>, <a href=\"/charts/hot-100/1961-07-10\">July 10</a>, <a href=\"/charts/hot-100/1961-07-17\">July 17</a>, <a href=\"/charts/hot-100/1961-07-24\">July 24</a>, <a href=\"/charts/hot-100/1961-07-31\">July 31</a>, <a href=\"/charts/hot-100/1961-08-07\">August 7</a>, <a href=\"/charts/hot-100/1961-08-14\">August 14</a>, <a href=\"/charts/hot-100/1961-08-21\">August 21</a>, <a href=\"/charts/hot-100/1961-08-28\">August 28</a>, <a href=\"/charts/hot-100/1961-09-04\">September 4</a>, <a href=\"/charts/hot-100/1961-09-11\">September 11</a>, <a href=\"/charts/hot-100/1961-09-18\">September 18</a>, <a href=\"/charts/hot-100/1961-09-25\">September 25</a>, <a href=\"/charts/hot-100/1961-10-02\">October 2</a>, <a href=\"/charts/hot-100/1961-10-09\">October 9</a>, <a href=\"/charts/hot-100/1961-10-16\">October 16</a>, <a href=\"/charts/hot-100/1961-10-23\">October 23</a>, <a href=\"/charts/hot-100/1961-10-30\">October 30</a>, <a href=\"/charts/hot-100/1961-11-06\">November 6</a>, <a href=\"/charts/hot-100/1961-11-13\">November 13</a>, <a href=\"/charts/hot-100/1961-11-20\">November 20</a>, <a href=\"/charts/hot-100/1961-11-27\">November 27</a>, <a href=\"/charts/hot-100/1961-12-04\">December 4</a>, <a href=\"/charts/hot-100/1961-12-11\">December 11</a>, <a href=\"/charts/hot-100/1961-12-18\">December 18</a>, <a href=\"/charts/hot-100/1961-12-25\">December 25</a>], '                                          ']\n"
     ]
    }
   ],
   "source": [
    "print(urlList)"
   ]
  },
  {
   "cell_type": "code",
   "execution_count": null,
   "metadata": {},
   "outputs": [],
   "source": []
  }
 ],
 "metadata": {
  "kernelspec": {
   "display_name": "Python 3",
   "language": "python",
   "name": "python3"
  },
  "language_info": {
   "codemirror_mode": {
    "name": "ipython",
    "version": 3
   },
   "file_extension": ".py",
   "mimetype": "text/x-python",
   "name": "python",
   "nbconvert_exporter": "python",
   "pygments_lexer": "ipython3",
   "version": "3.6.1"
  }
 },
 "nbformat": 4,
 "nbformat_minor": 2
}
